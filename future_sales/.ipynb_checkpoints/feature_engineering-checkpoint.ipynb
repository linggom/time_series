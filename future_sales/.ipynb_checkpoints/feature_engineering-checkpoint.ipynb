{
 "cells": [
  {
   "cell_type": "code",
   "execution_count": 154,
   "metadata": {},
   "outputs": [],
   "source": [
    "import pandas as pd\n",
    "import numpy as np\n",
    "from sklearn.metrics import mean_absolute_error, mean_squared_error\n",
    "import math\n",
    "import seaborn as sns"
   ]
  },
  {
   "cell_type": "code",
   "execution_count": 67,
   "metadata": {},
   "outputs": [],
   "source": [
    "import warnings\n",
    "warnings.filterwarnings(\"ignore\")\n",
    "%matplotlib inline"
   ]
  },
  {
   "cell_type": "code",
   "execution_count": 4,
   "metadata": {},
   "outputs": [],
   "source": [
    "# train = pd.read_csv('./data/train.csv')"
   ]
  },
  {
   "cell_type": "code",
   "execution_count": 5,
   "metadata": {},
   "outputs": [],
   "source": [
    "# eval = pd.read_csv('./data/eval.csv')"
   ]
  },
  {
   "cell_type": "code",
   "execution_count": 6,
   "metadata": {},
   "outputs": [],
   "source": [
    "# test = pd.read_csv('./data/test.csv')"
   ]
  },
  {
   "cell_type": "code",
   "execution_count": 7,
   "metadata": {},
   "outputs": [],
   "source": [
    "# test.head(5)"
   ]
  },
  {
   "cell_type": "code",
   "execution_count": 8,
   "metadata": {},
   "outputs": [],
   "source": [
    "# eval.head(5)"
   ]
  },
  {
   "cell_type": "code",
   "execution_count": 9,
   "metadata": {},
   "outputs": [],
   "source": [
    "# train.head(5)"
   ]
  },
  {
   "cell_type": "code",
   "execution_count": 120,
   "metadata": {},
   "outputs": [],
   "source": [
    "sales = pd.read_csv('./data/sales_train.csv.gz')\n",
    "sample_submission = pd.read_csv('data/sample_submission.csv.gz')"
   ]
  },
  {
   "cell_type": "code",
   "execution_count": 122,
   "metadata": {},
   "outputs": [],
   "source": [
    "data_test = pd.read_csv('./data/test.csv.gz')"
   ]
  },
  {
   "cell_type": "code",
   "execution_count": 11,
   "metadata": {},
   "outputs": [],
   "source": [
    "def get_label(sales, lag=1):\n",
    "    max_num = sales['date_block_num'].max()\n",
    "    curr = max_num - lag + 1\n",
    "    labels = sales[sales['date_block_num'] == curr]['item_cnt_day'].values\n",
    "    return labels"
   ]
  },
  {
   "cell_type": "code",
   "execution_count": 12,
   "metadata": {},
   "outputs": [],
   "source": [
    "def create_data_lag(sales, lag=1, test_data=None):    \n",
    "    max_num = sales['date_block_num'].max()\n",
    "    curr = max_num - lag + 1    \n",
    "    print(max_num, curr)\n",
    "    if test_data is None:\n",
    "        last_sales =  sales[sales['date_block_num'] == curr]\n",
    "        last_sales = last_sales.groupby(['shop_id','item_id']).agg({\"item_price\":'mean',\"item_cnt_day\":\"sum\"})\n",
    "        last_sales['shop_id'] = [i[0] for i in last_sales.index]\n",
    "        last_sales['item_id'] = [i[1] for i in last_sales.index]\n",
    "        label = last_sales.item_cnt_day.values\n",
    "        curr = curr - 1\n",
    "    else:\n",
    "        last_sales = test_data\n",
    "        label = None\n",
    "    for i in range(0, max_num - lag + 1):\n",
    "        previous_sales = sales.copy()\n",
    "        previous_sales = previous_sales[['date_block_num', 'shop_id', 'item_id', 'item_price','item_cnt_day']]\n",
    "        previous_sales = previous_sales[previous_sales['date_block_num'] == curr]\n",
    "        col_item_price = 'block_%s_lag_%s_item_price' % (curr, i)\n",
    "        col_item_cnt_day = 'block_%s_lag_%s_item_cnt_day' % (curr, i)\n",
    "        previous_sales[col_item_price] = previous_sales['item_price']\n",
    "        previous_sales[col_item_cnt_day] = previous_sales['item_cnt_day']\n",
    "\n",
    "        previous_sales= previous_sales.groupby(['shop_id','item_id']).agg({col_item_price:'mean', col_item_cnt_day:\"sum\"})\n",
    "        previous_sales['shop_id'] = [i[0] for i in previous_sales.index]\n",
    "        previous_sales['item_id'] = [i[1] for i in previous_sales.index]\n",
    "\n",
    "        last_sales = pd.merge(last_sales, previous_sales, on=['shop_id', 'item_id'], how='left')\n",
    "        curr = curr - 1\n",
    "    cols = []\n",
    "    for col in last_sales.columns:\n",
    "        if 'tuple' in str(type(col)):\n",
    "            cols.append(col[0]+\"_\"+col[1])\n",
    "        else:\n",
    "            cols.append(col)\n",
    "    last_sales.columns = cols\n",
    "    last_sale_clear_nan = last_sales.fillna(0)\n",
    "\n",
    "    if 'item_price' in last_sale_clear_nan.columns:\n",
    "        del last_sale_clear_nan['item_price']\n",
    "\n",
    "    if 'item_cnt_day' in last_sale_clear_nan.columns:\n",
    "        del last_sale_clear_nan['item_cnt_day']\n",
    "\n",
    "    return last_sale_clear_nan, label"
   ]
  },
  {
   "cell_type": "code",
   "execution_count": 233,
   "metadata": {},
   "outputs": [
    {
     "name": "stdout",
     "output_type": "stream",
     "text": [
      "33 33\n",
      "(31531, 68) (31531,)\n"
     ]
    }
   ],
   "source": [
    "eval_feature, eval_label = create_data_lag(sales, lag=1)\n",
    "print(eval_feature.shape, eval_label.shape)"
   ]
  },
  {
   "cell_type": "code",
   "execution_count": 234,
   "metadata": {},
   "outputs": [
    {
     "name": "stdout",
     "output_type": "stream",
     "text": [
      "33 32\n",
      "(29678, 66) (29678,)\n"
     ]
    }
   ],
   "source": [
    "test_feature,test_label = create_data_lag(sales, lag=2)\n",
    "print(test_feature.shape, test_label.shape)"
   ]
  },
  {
   "cell_type": "code",
   "execution_count": 235,
   "metadata": {},
   "outputs": [
    {
     "name": "stdout",
     "output_type": "stream",
     "text": [
      "33 31\n",
      "(33486, 64) (33486,)\n"
     ]
    }
   ],
   "source": [
    "train_feature,train_label = create_data_lag(sales, lag=3)\n",
    "print(train_feature.shape, train_label.shape)"
   ]
  },
  {
   "cell_type": "markdown",
   "metadata": {},
   "source": [
    "# Feature Engineering"
   ]
  },
  {
   "cell_type": "markdown",
   "metadata": {},
   "source": [
    "Grouping the date to 4 section :\n",
    "* Last Month bought\n",
    "* last 3 month bought average\n",
    "* last 6 month bought average\n",
    "* last 12 mounth bought average\n",
    "* rest bought average"
   ]
  },
  {
   "cell_type": "code",
   "execution_count": 236,
   "metadata": {},
   "outputs": [],
   "source": [
    "def get_column_buy_count(sales):\n",
    "    col_cnt = []\n",
    "    for c in sales.columns:\n",
    "        if 'item_cnt_day' in c:\n",
    "            col_cnt.append(c)\n",
    "    return col_cnt"
   ]
  },
  {
   "cell_type": "code",
   "execution_count": 237,
   "metadata": {},
   "outputs": [],
   "source": [
    "def get_last_month(sales):\n",
    "    cnt_columns = get_column_buy_count(sales)\n",
    "    sales['fe_last_month_count_sum'] = sales[cnt_columns[0]]\n",
    "    sales['fe_last_month_count_mean'] = sales[cnt_columns[0]]\n",
    "    return sales"
   ]
  },
  {
   "cell_type": "code",
   "execution_count": 238,
   "metadata": {},
   "outputs": [],
   "source": [
    "def get_rest_month(sales):\n",
    "    cnt_columns = get_column_buy_count(sales)\n",
    "    sales['fe_rest_months_count_sum'] = sales[cnt_columns[12:]].sum(axis=1)\n",
    "    sales['fe_rest_months_count_mean'] = sales[cnt_columns[12:]].mean(axis=1)\n",
    "    return sales"
   ]
  },
  {
   "cell_type": "code",
   "execution_count": 239,
   "metadata": {},
   "outputs": [],
   "source": [
    "def get_grouped_month_summary(sales):\n",
    "    cnt_columns = get_column_buy_count(sales)\n",
    "    for month in (1,3,6,9,12,15,18):\n",
    "        \n",
    "        sales['fe_group_%s_months_count_sum' % month] = sales[cnt_columns[:month]].sum(axis=1)\n",
    "        sales['fe_group_%s_months_count_mean' % month] = sales[cnt_columns[:month]].mean(axis=1)\n",
    "        print(\"get_grouped_month_summary : \", month)\n",
    "    sales['fe_group_%s_months_count_sum_rest'] = sales[cnt_columns[18:]].sum(axis=1)\n",
    "    sales['fe_group_%s_months_count_mean_rest'] = sales[cnt_columns[18:]].mean(axis=1)\n",
    "    return sales"
   ]
  },
  {
   "cell_type": "code",
   "execution_count": 240,
   "metadata": {},
   "outputs": [],
   "source": [
    "def get_the_3_6_9_12_24_month(sales):\n",
    "    cnt_columns = get_column_buy_count(sales)\n",
    "    for i in (3,6,9,12,24):        \n",
    "        print(\"get_the_3_6_9_12_24_month \", i)\n",
    "        sales['fe_%s_month' % i] = sales[cnt_columns[i]]\n",
    "    return sales"
   ]
  },
  {
   "cell_type": "markdown",
   "metadata": {},
   "source": [
    "###  ==================================================="
   ]
  },
  {
   "cell_type": "code",
   "execution_count": 241,
   "metadata": {},
   "outputs": [],
   "source": [
    "def get_last_buy(sales):\n",
    "    col_cnt = get_column_buy_count(sales)\n",
    "    last_buy = []\n",
    "        \n",
    "    for items in sales[col_cnt].values:\n",
    "        month = -1\n",
    "        for idx,row in enumerate(items):\n",
    "            if idx > 0 and row > 0:\n",
    "                if month == -1:\n",
    "                    month = idx\n",
    "                    break\n",
    "        last_buy.append(month)\n",
    "    sales['fe_last_buy'] = last_buy\n",
    "    return sales\n",
    "\n",
    "def get_average_interval(sales):\n",
    "    col_cnt = get_column_buy_count(sales)\n",
    "    average_interval = []\n",
    "    for items in sales[col_cnt].values:\n",
    "        month_interval = []\n",
    "        last_buy_month = 0\n",
    "        for idx,row in enumerate(items):\n",
    "            if idx > 0 and row > 0:\n",
    "                month_interval.append(idx - last_buy_month)\n",
    "                last_buy_month = idx\n",
    "        average_interval.append(np.mean(month_interval))\n",
    "    sales['fe_average_interval'] = average_interval\n",
    "    return sales\n",
    "\n",
    "def get_avg_buy_rate(sales):  \n",
    "    col_cnt = get_column_buy_count(sales)\n",
    "    sales['fe_avg_buy_rate'] = sales[col_cnt].mean(axis=1)\n",
    "    return sales\n",
    "\n",
    "def get_std_buy_rate(sales):\n",
    "    col_cnt = get_column_buy_count(sales)\n",
    "    sales['fe_std_buy_rate'] = sales[col_cnt].std(axis=1)\n",
    "    return sales\n"
   ]
  },
  {
   "cell_type": "code",
   "execution_count": 242,
   "metadata": {},
   "outputs": [],
   "source": [
    "# def generate_feature(last_sale_clear_nan):\n",
    "# #     last_sale_clear_nan = get_last_buy(last_sale_clear_nan)\n",
    "# #     print(\"get_last_buy\")\n",
    "    \n",
    "# #     last_sale_clear_nan = get_average_interval(last_sale_clear_nan)\n",
    "# #     print(\"get_average_interval\")\n",
    "    \n",
    "#     last_sale_clear_nan = get_avg_buy_rate(last_sale_clear_nan)\n",
    "#     print(\"get_avg_buy_rate\")\n",
    "    \n",
    "#     last_sale_clear_nan = get_std_buy_rate(last_sale_clear_nan)\n",
    "#     print(\"get_std_buy_rate\")\n",
    "    \n",
    "#     last_sale_clear_nan = get_grouped_month_summary(last_sale_clear_nan)\n",
    "#     last_sale_clear_nan = get_the_3_6_9_12_24_month(last_sale_clear_nan)\n",
    "    \n",
    "    \n",
    "#     return last_sale_clear_nan"
   ]
  },
  {
   "cell_type": "code",
   "execution_count": 243,
   "metadata": {},
   "outputs": [],
   "source": [
    "def generate_feature(last_sale_clear_nan):\n",
    "#     last_sale_clear_nan = get_last_buy(last_sale_clear_nan)\n",
    "#     print(\"get_last_buy\")\n",
    "    \n",
    "    # last_sale_clear_nan = get_average_interval(last_sale_clear_nan)\n",
    "    print(\"get_average_interval\")\n",
    "    \n",
    "    last_sale_clear_nan = get_avg_buy_rate(last_sale_clear_nan)\n",
    "    print(\"get_avg_buy_rate\")\n",
    "    \n",
    "    last_sale_clear_nan = get_std_buy_rate(last_sale_clear_nan)\n",
    "    print(\"get_std_buy_rate\")\n",
    "    \n",
    "    last_sale_clear_nan = get_grouped_month_summary(last_sale_clear_nan)\n",
    "    print(\"get grouped month summary\")\n",
    "    last_sale_clear_nan = get_the_3_6_9_12_24_month(last_sale_clear_nan)\n",
    "    \n",
    "    \n",
    "    print('filter the features')\n",
    "    return last_sale_clear_nan"
   ]
  },
  {
   "cell_type": "markdown",
   "metadata": {},
   "source": [
    "# Apply the feature"
   ]
  },
  {
   "cell_type": "code",
   "execution_count": 244,
   "metadata": {},
   "outputs": [],
   "source": [
    "cnt_columns = get_column_buy_count(train_feature)"
   ]
  },
  {
   "cell_type": "code",
   "execution_count": 245,
   "metadata": {},
   "outputs": [
    {
     "name": "stdout",
     "output_type": "stream",
     "text": [
      "get_average_interval\n",
      "get_avg_buy_rate\n",
      "get_std_buy_rate\n",
      "get_grouped_month_summary :  1\n",
      "get_grouped_month_summary :  3\n",
      "get_grouped_month_summary :  6\n",
      "get_grouped_month_summary :  9\n",
      "get_grouped_month_summary :  12\n",
      "get_grouped_month_summary :  15\n",
      "get_grouped_month_summary :  18\n",
      "get grouped month summary\n",
      "get_the_3_6_9_12_24_month  3\n",
      "get_the_3_6_9_12_24_month  6\n",
      "get_the_3_6_9_12_24_month  9\n",
      "get_the_3_6_9_12_24_month  12\n",
      "get_the_3_6_9_12_24_month  24\n",
      "filter the features\n"
     ]
    }
   ],
   "source": [
    "train_feature = generate_feature(train_feature)"
   ]
  },
  {
   "cell_type": "code",
   "execution_count": 246,
   "metadata": {},
   "outputs": [
    {
     "name": "stdout",
     "output_type": "stream",
     "text": [
      "get_average_interval\n",
      "get_avg_buy_rate\n",
      "get_std_buy_rate\n",
      "get_grouped_month_summary :  1\n",
      "get_grouped_month_summary :  3\n",
      "get_grouped_month_summary :  6\n",
      "get_grouped_month_summary :  9\n",
      "get_grouped_month_summary :  12\n",
      "get_grouped_month_summary :  15\n",
      "get_grouped_month_summary :  18\n",
      "get grouped month summary\n",
      "get_the_3_6_9_12_24_month  3\n",
      "get_the_3_6_9_12_24_month  6\n",
      "get_the_3_6_9_12_24_month  9\n",
      "get_the_3_6_9_12_24_month  12\n",
      "get_the_3_6_9_12_24_month  24\n",
      "filter the features\n"
     ]
    }
   ],
   "source": [
    "eval_feature = generate_feature(eval_feature)"
   ]
  },
  {
   "cell_type": "code",
   "execution_count": 247,
   "metadata": {},
   "outputs": [
    {
     "name": "stdout",
     "output_type": "stream",
     "text": [
      "get_average_interval\n",
      "get_avg_buy_rate\n",
      "get_std_buy_rate\n",
      "get_grouped_month_summary :  1\n",
      "get_grouped_month_summary :  3\n",
      "get_grouped_month_summary :  6\n",
      "get_grouped_month_summary :  9\n",
      "get_grouped_month_summary :  12\n",
      "get_grouped_month_summary :  15\n",
      "get_grouped_month_summary :  18\n",
      "get grouped month summary\n",
      "get_the_3_6_9_12_24_month  3\n",
      "get_the_3_6_9_12_24_month  6\n",
      "get_the_3_6_9_12_24_month  9\n",
      "get_the_3_6_9_12_24_month  12\n",
      "get_the_3_6_9_12_24_month  24\n",
      "filter the features\n"
     ]
    }
   ],
   "source": [
    "test_feature = generate_feature(test_feature)"
   ]
  },
  {
   "cell_type": "markdown",
   "metadata": {},
   "source": [
    "# Modelling"
   ]
  },
  {
   "cell_type": "code",
   "execution_count": 248,
   "metadata": {},
   "outputs": [
    {
     "name": "stdout",
     "output_type": "stream",
     "text": [
      "fe_avg_buy_rate\n",
      "fe_std_buy_rate\n",
      "fe_group_1_months_count_sum\n",
      "fe_group_1_months_count_mean\n",
      "fe_group_3_months_count_sum\n",
      "fe_group_3_months_count_mean\n",
      "fe_group_6_months_count_sum\n",
      "fe_group_6_months_count_mean\n",
      "fe_group_9_months_count_sum\n",
      "fe_group_9_months_count_mean\n",
      "fe_group_12_months_count_sum\n",
      "fe_group_12_months_count_mean\n",
      "fe_group_15_months_count_sum\n",
      "fe_group_15_months_count_mean\n",
      "fe_group_18_months_count_sum\n",
      "fe_group_18_months_count_mean\n",
      "fe_group_%s_months_count_sum_rest\n",
      "fe_group_%s_months_count_mean_rest\n",
      "fe_3_month\n",
      "fe_6_month\n",
      "fe_9_month\n",
      "fe_12_month\n",
      "fe_24_month\n"
     ]
    }
   ],
   "source": [
    "selected_feature = []\n",
    "for fe in train_feature.columns:\n",
    "    if 'fe_' in fe:\n",
    "        print(fe)\n",
    "        selected_feature.append(fe)"
   ]
  },
  {
   "cell_type": "code",
   "execution_count": 249,
   "metadata": {},
   "outputs": [],
   "source": [
    "import lightgbm as lgb\n",
    "from lightgbm import plot_importance"
   ]
  },
  {
   "cell_type": "code",
   "execution_count": 250,
   "metadata": {},
   "outputs": [],
   "source": [
    "lr = lgb.LGBMRegressor(num_leaves=31, learning_rate=0.3, n_estimators=1000, colsample_bytree=0.8,\n",
    "                       min_child_weight=300,\n",
    "                       max_depth=8,\n",
    "                       subsample=0.8,\n",
    "                       seed=42\n",
    "                      )"
   ]
  },
  {
   "cell_type": "code",
   "execution_count": 251,
   "metadata": {},
   "outputs": [],
   "source": [
    "train_feature_filtered = train_feature[selected_feature]"
   ]
  },
  {
   "cell_type": "code",
   "execution_count": 265,
   "metadata": {},
   "outputs": [],
   "source": [
    "train_label = train_label.clip(0,20)"
   ]
  },
  {
   "cell_type": "code",
   "execution_count": 268,
   "metadata": {},
   "outputs": [
    {
     "data": {
      "text/plain": [
       "LGBMRegressor(boosting_type='gbdt', class_weight=None, colsample_bytree=0.8,\n",
       "       importance_type='split', learning_rate=0.3, max_depth=8,\n",
       "       min_child_samples=20, min_child_weight=300, min_split_gain=0.0,\n",
       "       n_estimators=1000, n_jobs=-1, num_leaves=31, objective=None,\n",
       "       random_state=None, reg_alpha=0.0, reg_lambda=0.0, seed=42,\n",
       "       silent=True, subsample=0.8, subsample_for_bin=200000,\n",
       "       subsample_freq=0)"
      ]
     },
     "execution_count": 268,
     "metadata": {},
     "output_type": "execute_result"
    }
   ],
   "source": [
    "lr.fit(train_feature_filtered, train_label)"
   ]
  },
  {
   "cell_type": "code",
   "execution_count": 269,
   "metadata": {},
   "outputs": [
    {
     "data": {
      "image/png": "[encoded data removed]",
      "text/plain": [
       "<Figure size 432x288 with 2 Axes>"
      ]
     },
     "metadata": {
      "needs_background": "light"
     },
     "output_type": "display_data"
    }
   ],
   "source": [
    "train_feature_filtered['lbl'] = train_label\n",
    "sns.heatmap(train_feature_filtered.corr())\n",
    "del train_feature_filtered['lbl']"
   ]
  },
  {
   "cell_type": "code",
   "execution_count": 270,
   "metadata": {},
   "outputs": [
    {
     "data": {
      "text/plain": [
       "<matplotlib.axes._subplots.AxesSubplot at 0x25a834fe3c8>"
      ]
     },
     "execution_count": 270,
     "metadata": {},
     "output_type": "execute_result"
    },
    {
     "data": {
      "image/png": "[encoded data removed]",
      "text/plain": [
       "<Figure size 432x288 with 1 Axes>"
      ]
     },
     "metadata": {
      "needs_background": "light"
     },
     "output_type": "display_data"
    }
   ],
   "source": [
    "plot_importance(lr)"
   ]
  },
  {
   "cell_type": "code",
   "execution_count": 271,
   "metadata": {},
   "outputs": [],
   "source": [
    "test_feature_filtered = test_feature[selected_feature]"
   ]
  },
  {
   "cell_type": "code",
   "execution_count": 272,
   "metadata": {},
   "outputs": [],
   "source": [
    "eval_feature_filtered = eval_feature[selected_feature]"
   ]
  },
  {
   "cell_type": "code",
   "execution_count": 274,
   "metadata": {},
   "outputs": [],
   "source": [
    "def res(model, feature, val):\n",
    "    mae = mean_absolute_error(val, model.predict(feature).clip(0,20))\n",
    "    rmse = math.sqrt(mean_squared_error(val, model.predict(feature).clip(0,20)))\n",
    "    print(\"MAE : \", mae)\n",
    "    print(\"RMSE : \", rmse)\n",
    "    print(math.sqrt(feature.shape[0])*mae)"
   ]
  },
  {
   "cell_type": "code",
   "execution_count": 275,
   "metadata": {},
   "outputs": [
    {
     "name": "stdout",
     "output_type": "stream",
     "text": [
      "MAE :  0.7544245777783871\n",
      "RMSE :  1.4109419073771907\n",
      "138.05351378693513\n"
     ]
    }
   ],
   "source": [
    "res(lr, train_feature_filtered, train_label )"
   ]
  },
  {
   "cell_type": "code",
   "execution_count": 276,
   "metadata": {},
   "outputs": [
    {
     "name": "stdout",
     "output_type": "stream",
     "text": [
      "MAE :  1.543507768956843\n",
      "RMSE :  18.182940946988932\n",
      "265.9047742292955\n"
     ]
    }
   ],
   "source": [
    "res(lr, test_feature_filtered, test_label )"
   ]
  },
  {
   "cell_type": "code",
   "execution_count": 277,
   "metadata": {},
   "outputs": [
    {
     "name": "stdout",
     "output_type": "stream",
     "text": [
      "MAE :  1.3385670075852698\n",
      "RMSE :  14.276350956708667\n",
      "237.6889481553883\n"
     ]
    }
   ],
   "source": [
    "res(lr, eval_feature_filtered, eval_label )"
   ]
  },
  {
   "cell_type": "code",
   "execution_count": 278,
   "metadata": {},
   "outputs": [
    {
     "data": {
      "text/plain": [
       "LGBMRegressor(boosting_type='gbdt', class_weight=None, colsample_bytree=0.8,\n",
       "       importance_type='split', learning_rate=0.3, max_depth=8,\n",
       "       min_child_samples=20, min_child_weight=300, min_split_gain=0.0,\n",
       "       n_estimators=1000, n_jobs=-1, num_leaves=31, objective=None,\n",
       "       random_state=None, reg_alpha=0.0, reg_lambda=0.0, seed=42,\n",
       "       silent=True, subsample=0.8, subsample_for_bin=200000,\n",
       "       subsample_freq=0)"
      ]
     },
     "execution_count": 278,
     "metadata": {},
     "output_type": "execute_result"
    }
   ],
   "source": [
    "lr.fit(eval_feature_filtered, eval_label.clip(0,20))"
   ]
  },
  {
   "cell_type": "code",
   "execution_count": null,
   "metadata": {},
   "outputs": [
    {
     "name": "stdout",
     "output_type": "stream",
     "text": [
      "33 34\n"
     ]
    }
   ],
   "source": [
    "submission_feature, _= create_data_lag(sales, lag=0, test_data = data_test)\n",
    "submission_feature_filtered = generate_feature(submission_feature)\n",
    "submission_feature_filtered = submission_feature_filtered[selected_feature]\n",
    "\n",
    "\n",
    "submission_feature['predictions'] = lr.predict(submission_feature_filtered).clip(0,20)\n",
    "submission = pd.merge(data_test, submission_feature, on=['shop_id', 'item_id'], how='left')\n",
    "submission['item_cnt_month'] = submission['predictions']\n",
    "submission['ID'] = submission['ID_x']\n",
    "submission[['ID','item_cnt_month']].to_csv('data/submission_7.csv', index=False)"
   ]
  },
  {
   "cell_type": "code",
   "execution_count": null,
   "metadata": {},
   "outputs": [],
   "source": []
  }
 ],
 "metadata": {
  "kernelspec": {
   "display_name": "Python 3",
   "language": "python",
   "name": "python3"
  },
  "language_info": {
   "codemirror_mode": {
    "name": "ipython",
    "version": 3
   },
   "file_extension": ".py",
   "mimetype": "text/x-python",
   "name": "python",
   "nbconvert_exporter": "python",
   "pygments_lexer": "ipython3",
   "version": "3.5.0"
  }
 },
 "nbformat": 4,
 "nbformat_minor": 2
}
