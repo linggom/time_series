{
 "cells": [
  {
   "cell_type": "code",
   "execution_count": 1,
   "metadata": {},
   "outputs": [],
   "source": [
    "import pandas as pd\n",
    "import numpy as np"
   ]
  },
  {
   "cell_type": "code",
   "execution_count": 2,
   "metadata": {},
   "outputs": [],
   "source": [
    "train = pd.read_csv('./data/train.csv')"
   ]
  },
  {
   "cell_type": "code",
   "execution_count": 3,
   "metadata": {},
   "outputs": [],
   "source": [
    "eval = pd.read_csv('./data/eval.csv')"
   ]
  },
  {
   "cell_type": "code",
   "execution_count": 4,
   "metadata": {},
   "outputs": [],
   "source": [
    "test = pd.read_csv('./data/test.csv')"
   ]
  },
  {
   "cell_type": "code",
   "execution_count": 5,
   "metadata": {},
   "outputs": [
    {
     "data": {
      "text/html": [
       "<div>\n",
       "<style scoped>\n",
       "    .dataframe tbody tr th:only-of-type {\n",
       "        vertical-align: middle;\n",
       "    }\n",
       "\n",
       "    .dataframe tbody tr th {\n",
       "        vertical-align: top;\n",
       "    }\n",
       "\n",
       "    .dataframe thead th {\n",
       "        text-align: right;\n",
       "    }\n",
       "</style>\n",
       "<table border=\"1\" class=\"dataframe\">\n",
       "  <thead>\n",
       "    <tr style=\"text-align: right;\">\n",
       "      <th></th>\n",
       "      <th>item_cnt_day</th>\n",
       "      <th>item_price</th>\n",
       "      <th>shop_id</th>\n",
       "      <th>item_id</th>\n",
       "    </tr>\n",
       "  </thead>\n",
       "  <tbody>\n",
       "    <tr>\n",
       "      <th>0</th>\n",
       "      <td>1.0</td>\n",
       "      <td>399.0</td>\n",
       "      <td>2</td>\n",
       "      <td>31</td>\n",
       "    </tr>\n",
       "    <tr>\n",
       "      <th>1</th>\n",
       "      <td>3.0</td>\n",
       "      <td>300.0</td>\n",
       "      <td>2</td>\n",
       "      <td>486</td>\n",
       "    </tr>\n",
       "    <tr>\n",
       "      <th>2</th>\n",
       "      <td>1.0</td>\n",
       "      <td>420.0</td>\n",
       "      <td>2</td>\n",
       "      <td>787</td>\n",
       "    </tr>\n",
       "    <tr>\n",
       "      <th>3</th>\n",
       "      <td>1.0</td>\n",
       "      <td>3300.0</td>\n",
       "      <td>2</td>\n",
       "      <td>794</td>\n",
       "    </tr>\n",
       "    <tr>\n",
       "      <th>4</th>\n",
       "      <td>1.0</td>\n",
       "      <td>58.0</td>\n",
       "      <td>2</td>\n",
       "      <td>968</td>\n",
       "    </tr>\n",
       "  </tbody>\n",
       "</table>\n",
       "</div>"
      ],
      "text/plain": [
       "   item_cnt_day  item_price  shop_id  item_id\n",
       "0           1.0       399.0        2       31\n",
       "1           3.0       300.0        2      486\n",
       "2           1.0       420.0        2      787\n",
       "3           1.0      3300.0        2      794\n",
       "4           1.0        58.0        2      968"
      ]
     },
     "execution_count": 5,
     "metadata": {},
     "output_type": "execute_result"
    }
   ],
   "source": [
    "test.head(5)"
   ]
  },
  {
   "cell_type": "code",
   "execution_count": 9,
   "metadata": {},
   "outputs": [
    {
     "data": {
      "text/html": [
       "<div>\n",
       "<style scoped>\n",
       "    .dataframe tbody tr th:only-of-type {\n",
       "        vertical-align: middle;\n",
       "    }\n",
       "\n",
       "    .dataframe tbody tr th {\n",
       "        vertical-align: top;\n",
       "    }\n",
       "\n",
       "    .dataframe thead th {\n",
       "        text-align: right;\n",
       "    }\n",
       "</style>\n",
       "<table border=\"1\" class=\"dataframe\">\n",
       "  <thead>\n",
       "    <tr style=\"text-align: right;\">\n",
       "      <th></th>\n",
       "      <th>item_cnt_day</th>\n",
       "      <th>item_price</th>\n",
       "      <th>shop_id</th>\n",
       "      <th>item_id</th>\n",
       "    </tr>\n",
       "  </thead>\n",
       "  <tbody>\n",
       "    <tr>\n",
       "      <th>0</th>\n",
       "      <td>1.0</td>\n",
       "      <td>399.0</td>\n",
       "      <td>2</td>\n",
       "      <td>31</td>\n",
       "    </tr>\n",
       "    <tr>\n",
       "      <th>1</th>\n",
       "      <td>3.0</td>\n",
       "      <td>300.0</td>\n",
       "      <td>2</td>\n",
       "      <td>486</td>\n",
       "    </tr>\n",
       "    <tr>\n",
       "      <th>2</th>\n",
       "      <td>1.0</td>\n",
       "      <td>420.0</td>\n",
       "      <td>2</td>\n",
       "      <td>787</td>\n",
       "    </tr>\n",
       "    <tr>\n",
       "      <th>3</th>\n",
       "      <td>1.0</td>\n",
       "      <td>3300.0</td>\n",
       "      <td>2</td>\n",
       "      <td>794</td>\n",
       "    </tr>\n",
       "    <tr>\n",
       "      <th>4</th>\n",
       "      <td>1.0</td>\n",
       "      <td>58.0</td>\n",
       "      <td>2</td>\n",
       "      <td>968</td>\n",
       "    </tr>\n",
       "  </tbody>\n",
       "</table>\n",
       "</div>"
      ],
      "text/plain": [
       "   item_cnt_day  item_price  shop_id  item_id\n",
       "0           1.0       399.0        2       31\n",
       "1           3.0       300.0        2      486\n",
       "2           1.0       420.0        2      787\n",
       "3           1.0      3300.0        2      794\n",
       "4           1.0        58.0        2      968"
      ]
     },
     "execution_count": 9,
     "metadata": {},
     "output_type": "execute_result"
    }
   ],
   "source": [
    "eval.head(5)"
   ]
  },
  {
   "cell_type": "code",
   "execution_count": 11,
   "metadata": {},
   "outputs": [
    {
     "data": {
      "text/html": [
       "<div>\n",
       "<style scoped>\n",
       "    .dataframe tbody tr th:only-of-type {\n",
       "        vertical-align: middle;\n",
       "    }\n",
       "\n",
       "    .dataframe tbody tr th {\n",
       "        vertical-align: top;\n",
       "    }\n",
       "\n",
       "    .dataframe thead th {\n",
       "        text-align: right;\n",
       "    }\n",
       "</style>\n",
       "<table border=\"1\" class=\"dataframe\">\n",
       "  <thead>\n",
       "    <tr style=\"text-align: right;\">\n",
       "      <th></th>\n",
       "      <th>item_cnt_day</th>\n",
       "      <th>item_price</th>\n",
       "      <th>shop_id</th>\n",
       "      <th>item_id</th>\n",
       "      <th>block_31_lag_1_item_price</th>\n",
       "      <th>block_31_lag_1_item_cnt_day</th>\n",
       "      <th>block_30_lag_2_item_cnt_day</th>\n",
       "      <th>block_30_lag_2_item_price</th>\n",
       "      <th>block_29_lag_3_item_cnt_day</th>\n",
       "      <th>block_29_lag_3_item_price</th>\n",
       "      <th>...</th>\n",
       "      <th>block_1_lag_31_item_price</th>\n",
       "      <th>block_1_lag_31_item_cnt_day</th>\n",
       "      <th>block_0_lag_32_item_cnt_day</th>\n",
       "      <th>block_0_lag_32_item_price</th>\n",
       "      <th>block_-1_lag_33_item_cnt_day</th>\n",
       "      <th>block_-1_lag_33_item_price</th>\n",
       "      <th>last_buy</th>\n",
       "      <th>average_interval</th>\n",
       "      <th>avg_buy_rate</th>\n",
       "      <th>std_buy_rate</th>\n",
       "    </tr>\n",
       "  </thead>\n",
       "  <tbody>\n",
       "    <tr>\n",
       "      <th>0</th>\n",
       "      <td>1.0</td>\n",
       "      <td>199.0</td>\n",
       "      <td>2</td>\n",
       "      <td>33</td>\n",
       "      <td>0.0</td>\n",
       "      <td>0.0</td>\n",
       "      <td>1.0</td>\n",
       "      <td>199.0</td>\n",
       "      <td>0.0</td>\n",
       "      <td>0.0</td>\n",
       "      <td>...</td>\n",
       "      <td>0.0</td>\n",
       "      <td>0.0</td>\n",
       "      <td>1.0</td>\n",
       "      <td>499.0</td>\n",
       "      <td>0.0</td>\n",
       "      <td>0.0</td>\n",
       "      <td>2</td>\n",
       "      <td>3.555556</td>\n",
       "      <td>0.323529</td>\n",
       "      <td>0.534880</td>\n",
       "    </tr>\n",
       "    <tr>\n",
       "      <th>1</th>\n",
       "      <td>1.0</td>\n",
       "      <td>300.0</td>\n",
       "      <td>2</td>\n",
       "      <td>486</td>\n",
       "      <td>0.0</td>\n",
       "      <td>0.0</td>\n",
       "      <td>0.0</td>\n",
       "      <td>0.0</td>\n",
       "      <td>2.0</td>\n",
       "      <td>300.0</td>\n",
       "      <td>...</td>\n",
       "      <td>0.0</td>\n",
       "      <td>0.0</td>\n",
       "      <td>0.0</td>\n",
       "      <td>0.0</td>\n",
       "      <td>0.0</td>\n",
       "      <td>0.0</td>\n",
       "      <td>3</td>\n",
       "      <td>1.714286</td>\n",
       "      <td>0.382353</td>\n",
       "      <td>0.779071</td>\n",
       "    </tr>\n",
       "    <tr>\n",
       "      <th>2</th>\n",
       "      <td>1.0</td>\n",
       "      <td>979.0</td>\n",
       "      <td>2</td>\n",
       "      <td>792</td>\n",
       "      <td>979.0</td>\n",
       "      <td>2.0</td>\n",
       "      <td>0.0</td>\n",
       "      <td>0.0</td>\n",
       "      <td>1.0</td>\n",
       "      <td>979.0</td>\n",
       "      <td>...</td>\n",
       "      <td>0.0</td>\n",
       "      <td>0.0</td>\n",
       "      <td>0.0</td>\n",
       "      <td>0.0</td>\n",
       "      <td>0.0</td>\n",
       "      <td>0.0</td>\n",
       "      <td>1</td>\n",
       "      <td>1.555556</td>\n",
       "      <td>0.411765</td>\n",
       "      <td>0.743360</td>\n",
       "    </tr>\n",
       "    <tr>\n",
       "      <th>3</th>\n",
       "      <td>1.0</td>\n",
       "      <td>349.0</td>\n",
       "      <td>2</td>\n",
       "      <td>975</td>\n",
       "      <td>0.0</td>\n",
       "      <td>0.0</td>\n",
       "      <td>1.0</td>\n",
       "      <td>349.0</td>\n",
       "      <td>0.0</td>\n",
       "      <td>0.0</td>\n",
       "      <td>...</td>\n",
       "      <td>0.0</td>\n",
       "      <td>0.0</td>\n",
       "      <td>0.0</td>\n",
       "      <td>0.0</td>\n",
       "      <td>0.0</td>\n",
       "      <td>0.0</td>\n",
       "      <td>2</td>\n",
       "      <td>2.000000</td>\n",
       "      <td>0.058824</td>\n",
       "      <td>0.238833</td>\n",
       "    </tr>\n",
       "    <tr>\n",
       "      <th>4</th>\n",
       "      <td>1.0</td>\n",
       "      <td>499.0</td>\n",
       "      <td>2</td>\n",
       "      <td>1090</td>\n",
       "      <td>0.0</td>\n",
       "      <td>0.0</td>\n",
       "      <td>0.0</td>\n",
       "      <td>0.0</td>\n",
       "      <td>1.0</td>\n",
       "      <td>499.0</td>\n",
       "      <td>...</td>\n",
       "      <td>0.0</td>\n",
       "      <td>0.0</td>\n",
       "      <td>0.0</td>\n",
       "      <td>0.0</td>\n",
       "      <td>0.0</td>\n",
       "      <td>0.0</td>\n",
       "      <td>3</td>\n",
       "      <td>3.000000</td>\n",
       "      <td>0.058824</td>\n",
       "      <td>0.238833</td>\n",
       "    </tr>\n",
       "  </tbody>\n",
       "</table>\n",
       "<p>5 rows × 74 columns</p>\n",
       "</div>"
      ],
      "text/plain": [
       "   item_cnt_day  item_price  shop_id  item_id  block_31_lag_1_item_price  \\\n",
       "0           1.0       199.0        2       33                        0.0   \n",
       "1           1.0       300.0        2      486                        0.0   \n",
       "2           1.0       979.0        2      792                      979.0   \n",
       "3           1.0       349.0        2      975                        0.0   \n",
       "4           1.0       499.0        2     1090                        0.0   \n",
       "\n",
       "   block_31_lag_1_item_cnt_day  block_30_lag_2_item_cnt_day  \\\n",
       "0                          0.0                          1.0   \n",
       "1                          0.0                          0.0   \n",
       "2                          2.0                          0.0   \n",
       "3                          0.0                          1.0   \n",
       "4                          0.0                          0.0   \n",
       "\n",
       "   block_30_lag_2_item_price  block_29_lag_3_item_cnt_day  \\\n",
       "0                      199.0                          0.0   \n",
       "1                        0.0                          2.0   \n",
       "2                        0.0                          1.0   \n",
       "3                      349.0                          0.0   \n",
       "4                        0.0                          1.0   \n",
       "\n",
       "   block_29_lag_3_item_price      ...       block_1_lag_31_item_price  \\\n",
       "0                        0.0      ...                             0.0   \n",
       "1                      300.0      ...                             0.0   \n",
       "2                      979.0      ...                             0.0   \n",
       "3                        0.0      ...                             0.0   \n",
       "4                      499.0      ...                             0.0   \n",
       "\n",
       "   block_1_lag_31_item_cnt_day  block_0_lag_32_item_cnt_day  \\\n",
       "0                          0.0                          1.0   \n",
       "1                          0.0                          0.0   \n",
       "2                          0.0                          0.0   \n",
       "3                          0.0                          0.0   \n",
       "4                          0.0                          0.0   \n",
       "\n",
       "   block_0_lag_32_item_price  block_-1_lag_33_item_cnt_day  \\\n",
       "0                      499.0                           0.0   \n",
       "1                        0.0                           0.0   \n",
       "2                        0.0                           0.0   \n",
       "3                        0.0                           0.0   \n",
       "4                        0.0                           0.0   \n",
       "\n",
       "   block_-1_lag_33_item_price  last_buy  average_interval  avg_buy_rate  \\\n",
       "0                         0.0         2          3.555556      0.323529   \n",
       "1                         0.0         3          1.714286      0.382353   \n",
       "2                         0.0         1          1.555556      0.411765   \n",
       "3                         0.0         2          2.000000      0.058824   \n",
       "4                         0.0         3          3.000000      0.058824   \n",
       "\n",
       "   std_buy_rate  \n",
       "0      0.534880  \n",
       "1      0.779071  \n",
       "2      0.743360  \n",
       "3      0.238833  \n",
       "4      0.238833  \n",
       "\n",
       "[5 rows x 74 columns]"
      ]
     },
     "execution_count": 11,
     "metadata": {},
     "output_type": "execute_result"
    }
   ],
   "source": [
    "train.head(5)"
   ]
  },
  {
   "cell_type": "code",
   "execution_count": 13,
   "metadata": {},
   "outputs": [],
   "source": [
    "sales = pd.read_csv('./data/sales_train.csv.gz')"
   ]
  },
  {
   "cell_type": "code",
   "execution_count": 73,
   "metadata": {},
   "outputs": [],
   "source": [
    "def get_label(sales, lag=1):\n",
    "    max_num = sales['date_block_num'].max()\n",
    "    curr = max_num - lag + 1\n",
    "    labels = sales[sales['date_block_num'] == curr]['item_cnt_day'].values\n",
    "    return labels"
   ]
  },
  {
   "cell_type": "code",
   "execution_count": 47,
   "metadata": {},
   "outputs": [],
   "source": [
    "def create_data_lag(sales, lag=1):    \n",
    "    max_num = sales['date_block_num'].max()\n",
    "    curr = max_num - lag\n",
    "    print(max_num, curr)\n",
    "    last_sales =  sales[sales['date_block_num'] == curr]\n",
    "    last_sales = last_sales.groupby(['shop_id','item_id']).agg({\"item_price\":'mean',\"item_cnt_day\":\"sum\"})\n",
    "    last_sales['shop_id'] = [i[0] for i in last_sales.index]\n",
    "    last_sales['item_id'] = [i[1] for i in last_sales.index]\n",
    "    \n",
    "    col_item_price = 'block_%s_lag_%s_item_price' % (curr, 0)\n",
    "    col_item_cnt_day = 'block_%s_lag_%s_item_cnt_day' % (curr, 0)\n",
    "    \n",
    "    last_sales[col_item_price] = last_sales['item_price']\n",
    "    last_sales[col_item_cnt_day] = last_sales['item_cnt_day']\n",
    "    del last_sales['item_price']\n",
    "    del last_sales['item_cnt_day']\n",
    "\n",
    "\n",
    "    for i in range(1,max_num):\n",
    "        previous_sales = sales.copy()\n",
    "        previous_sales = previous_sales[['date_block_num', 'shop_id', 'item_id', 'item_price','item_cnt_day']]\n",
    "        previous_sales = previous_sales[previous_sales['date_block_num'] == curr - 1]\n",
    "        col_item_price = 'block_%s_lag_%s_item_price' % (curr-1, i)\n",
    "        col_item_cnt_day = 'block_%s_lag_%s_item_cnt_day' % (curr-1, i)\n",
    "        previous_sales[col_item_price] = previous_sales['item_price']\n",
    "        previous_sales[col_item_cnt_day] = previous_sales['item_cnt_day']\n",
    "\n",
    "        previous_sales= previous_sales.groupby(['shop_id','item_id']).agg({col_item_price:'mean', col_item_cnt_day:\"sum\"})\n",
    "        previous_sales['shop_id'] = [i[0] for i in previous_sales.index]\n",
    "        previous_sales['item_id'] = [i[1] for i in previous_sales.index]\n",
    "\n",
    "        last_sales = pd.merge(last_sales, previous_sales, on=['shop_id', 'item_id'], how='left')\n",
    "        curr = curr - 1\n",
    "    cols = []\n",
    "    for col in last_sales.columns:\n",
    "        if 'tuple' in str(type(col)):\n",
    "            cols.append(col[0]+\"_\"+col[1])\n",
    "        else:\n",
    "            cols.append(col)\n",
    "    last_sales.columns = cols\n",
    "    last_sale_clear_nan = last_sales.fillna(0)\n",
    "    return last_sale_clear_nan"
   ]
  },
  {
   "cell_type": "code",
   "execution_count": 75,
   "metadata": {},
   "outputs": [
    {
     "name": "stdout",
     "output_type": "stream",
     "text": [
      "33 32\n"
     ]
    },
    {
     "name": "stderr",
     "output_type": "stream",
     "text": [
      "C:\\Users\\17001970\\AppData\\Local\\Continuum\\anaconda3\\lib\\site-packages\\ipykernel_launcher.py:1: FutureWarning: 'shop_id' is both an index level and a column label.\n",
      "Defaulting to column, but this will raise an ambiguity error in a future version\n",
      "  \"\"\"Entry point for launching an IPython kernel.\n",
      "C:\\Users\\17001970\\AppData\\Local\\Continuum\\anaconda3\\lib\\site-packages\\ipykernel_launcher.py:1: FutureWarning: 'item_id' is both an index level and a column label.\n",
      "Defaulting to column, but this will raise an ambiguity error in a future version\n",
      "  \"\"\"Entry point for launching an IPython kernel.\n"
     ]
    }
   ],
   "source": [
    "eval_feature = create_data_lag(sales, lag=1)\n",
    "eval_label = get_label(sales, lag=1)"
   ]
  },
  {
   "cell_type": "code",
   "execution_count": 74,
   "metadata": {},
   "outputs": [
    {
     "name": "stdout",
     "output_type": "stream",
     "text": [
      "33 31\n"
     ]
    },
    {
     "name": "stderr",
     "output_type": "stream",
     "text": [
      "C:\\Users\\17001970\\AppData\\Local\\Continuum\\anaconda3\\lib\\site-packages\\ipykernel_launcher.py:1: FutureWarning: 'shop_id' is both an index level and a column label.\n",
      "Defaulting to column, but this will raise an ambiguity error in a future version\n",
      "  \"\"\"Entry point for launching an IPython kernel.\n",
      "C:\\Users\\17001970\\AppData\\Local\\Continuum\\anaconda3\\lib\\site-packages\\ipykernel_launcher.py:1: FutureWarning: 'item_id' is both an index level and a column label.\n",
      "Defaulting to column, but this will raise an ambiguity error in a future version\n",
      "  \"\"\"Entry point for launching an IPython kernel.\n"
     ]
    }
   ],
   "source": [
    "test_feature = create_data_lag(sales, lag=2)\n",
    "test_label = get_label(sales, lag=2)"
   ]
  },
  {
   "cell_type": "code",
   "execution_count": 76,
   "metadata": {},
   "outputs": [
    {
     "name": "stdout",
     "output_type": "stream",
     "text": [
      "33 30\n"
     ]
    },
    {
     "name": "stderr",
     "output_type": "stream",
     "text": [
      "C:\\Users\\17001970\\AppData\\Local\\Continuum\\anaconda3\\lib\\site-packages\\ipykernel_launcher.py:1: FutureWarning: 'shop_id' is both an index level and a column label.\n",
      "Defaulting to column, but this will raise an ambiguity error in a future version\n",
      "  \"\"\"Entry point for launching an IPython kernel.\n",
      "C:\\Users\\17001970\\AppData\\Local\\Continuum\\anaconda3\\lib\\site-packages\\ipykernel_launcher.py:1: FutureWarning: 'item_id' is both an index level and a column label.\n",
      "Defaulting to column, but this will raise an ambiguity error in a future version\n",
      "  \"\"\"Entry point for launching an IPython kernel.\n"
     ]
    }
   ],
   "source": [
    "train_feature = create_data_lag(sales, lag=3)\n",
    "train_label = get_label(sales, lag=3)"
   ]
  },
  {
   "cell_type": "markdown",
   "metadata": {},
   "source": [
    "# Feature Engineering"
   ]
  },
  {
   "cell_type": "code",
   "execution_count": 68,
   "metadata": {},
   "outputs": [],
   "source": [
    "def get_column_buy_count(sales):\n",
    "    col_cnt = []\n",
    "    for c in sales.columns:\n",
    "        if 'item_cnt_day' in c:\n",
    "            col_cnt.append(c)\n",
    "    return col_cnt\n",
    "\n",
    "def get_last_buy(sales):\n",
    "    col_cnt = get_column_buy_count(sales)\n",
    "    last_buy = []\n",
    "        \n",
    "    for items in sales[col_cnt].values:\n",
    "        month = -1\n",
    "        for idx,row in enumerate(items):\n",
    "            if idx > 0 and row > 0:\n",
    "                if month == -1:\n",
    "                    month = idx\n",
    "                    break\n",
    "        last_buy.append(month)\n",
    "    sales['last_buy'] = last_buy\n",
    "    return sales\n",
    "\n",
    "def get_average_interval(sales):\n",
    "    col_cnt = get_column_buy_count(sales)\n",
    "    average_interval = []\n",
    "    for items in sales[col_cnt].values:\n",
    "        month_interval = []\n",
    "        last_buy_month = 0\n",
    "        for idx,row in enumerate(items):\n",
    "            if idx > 0 and row > 0:\n",
    "                month_interval.append(idx - last_buy_month)\n",
    "                last_buy_month = idx\n",
    "        average_interval.append(np.mean(month_interval))\n",
    "    sales['average_interval'] = average_interval\n",
    "    return sales\n",
    "\n",
    "def get_avg_buy_rate(sales):  \n",
    "    col_cnt = get_column_buy_count(sales)\n",
    "    sales['avg_buy_rate'] = sales[col_cnt].mean(axis=1)\n",
    "    return sales\n",
    "\n",
    "def get_std_buy_rate(sales):\n",
    "    col_cnt = get_column_buy_count(sales)\n",
    "    sales['std_buy_rate'] = sales[col_cnt].std(axis=1)\n",
    "    return sales\n",
    "\n",
    "def generate_feature(last_sale_clear_nan):\n",
    "    last_sale_clear_nan = get_last_buy(last_sale_clear_nan)\n",
    "    last_sale_clear_nan = get_average_interval(last_sale_clear_nan)\n",
    "    last_sale_clear_nan = get_avg_buy_rate(last_sale_clear_nan)\n",
    "    last_sale_clear_nan = get_std_buy_rate(last_sale_clear_nan)\n",
    "    return last_sale_clear_nan"
   ]
  },
  {
   "cell_type": "markdown",
   "metadata": {},
   "source": [
    "# Apply the feature"
   ]
  },
  {
   "cell_type": "code",
   "execution_count": 69,
   "metadata": {},
   "outputs": [
    {
     "name": "stderr",
     "output_type": "stream",
     "text": [
      "C:\\Users\\17001970\\AppData\\Local\\Continuum\\anaconda3\\lib\\site-packages\\numpy\\core\\fromnumeric.py:2920: RuntimeWarning: Mean of empty slice.\n",
      "  out=out, **kwargs)\n",
      "C:\\Users\\17001970\\AppData\\Local\\Continuum\\anaconda3\\lib\\site-packages\\numpy\\core\\_methods.py:85: RuntimeWarning: invalid value encountered in double_scalars\n",
      "  ret = ret.dtype.type(ret / rcount)\n"
     ]
    }
   ],
   "source": [
    "train_feature = generate_feature(train_feature)"
   ]
  },
  {
   "cell_type": "code",
   "execution_count": 70,
   "metadata": {},
   "outputs": [
    {
     "name": "stderr",
     "output_type": "stream",
     "text": [
      "C:\\Users\\17001970\\AppData\\Local\\Continuum\\anaconda3\\lib\\site-packages\\numpy\\core\\fromnumeric.py:2920: RuntimeWarning: Mean of empty slice.\n",
      "  out=out, **kwargs)\n",
      "C:\\Users\\17001970\\AppData\\Local\\Continuum\\anaconda3\\lib\\site-packages\\numpy\\core\\_methods.py:85: RuntimeWarning: invalid value encountered in double_scalars\n",
      "  ret = ret.dtype.type(ret / rcount)\n"
     ]
    }
   ],
   "source": [
    "eval_feature = generate_feature(eval_feature)"
   ]
  },
  {
   "cell_type": "code",
   "execution_count": 71,
   "metadata": {},
   "outputs": [
    {
     "name": "stderr",
     "output_type": "stream",
     "text": [
      "C:\\Users\\17001970\\AppData\\Local\\Continuum\\anaconda3\\lib\\site-packages\\numpy\\core\\fromnumeric.py:2920: RuntimeWarning: Mean of empty slice.\n",
      "  out=out, **kwargs)\n",
      "C:\\Users\\17001970\\AppData\\Local\\Continuum\\anaconda3\\lib\\site-packages\\numpy\\core\\_methods.py:85: RuntimeWarning: invalid value encountered in double_scalars\n",
      "  ret = ret.dtype.type(ret / rcount)\n"
     ]
    }
   ],
   "source": [
    "test_feature = generate_feature(test_feature)"
   ]
  },
  {
   "cell_type": "code",
   "execution_count": null,
   "metadata": {},
   "outputs": [],
   "source": []
  }
 ],
 "metadata": {
  "kernelspec": {
   "display_name": "Python 3",
   "language": "python",
   "name": "python3"
  },
  "language_info": {
   "codemirror_mode": {
    "name": "ipython",
    "version": 3
   },
   "file_extension": ".py",
   "mimetype": "text/x-python",
   "name": "python",
   "nbconvert_exporter": "python",
   "pygments_lexer": "ipython3",
   "version": "3.5.0"
  }
 },
 "nbformat": 4,
 "nbformat_minor": 2
}
