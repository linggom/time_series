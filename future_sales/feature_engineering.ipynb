{
 "cells": [
  {
   "cell_type": "code",
   "execution_count": 1,
   "metadata": {},
   "outputs": [],
   "source": [
    "import pandas as pd\n",
    "import numpy as np"
   ]
  },
  {
   "cell_type": "code",
   "execution_count": 2,
   "metadata": {},
   "outputs": [],
   "source": [
    "import warnings\n",
    "warnings.filterwarnings(\"ignore\")"
   ]
  },
  {
   "cell_type": "code",
   "execution_count": 3,
   "metadata": {},
   "outputs": [],
   "source": [
    "# train = pd.read_csv('./data/train.csv')"
   ]
  },
  {
   "cell_type": "code",
   "execution_count": 4,
   "metadata": {},
   "outputs": [],
   "source": [
    "# eval = pd.read_csv('./data/eval.csv')"
   ]
  },
  {
   "cell_type": "code",
   "execution_count": 5,
   "metadata": {},
   "outputs": [],
   "source": [
    "# test = pd.read_csv('./data/test.csv')"
   ]
  },
  {
   "cell_type": "code",
   "execution_count": 6,
   "metadata": {},
   "outputs": [],
   "source": [
    "# test.head(5)"
   ]
  },
  {
   "cell_type": "code",
   "execution_count": 7,
   "metadata": {},
   "outputs": [],
   "source": [
    "# eval.head(5)"
   ]
  },
  {
   "cell_type": "code",
   "execution_count": 8,
   "metadata": {},
   "outputs": [],
   "source": [
    "# train.head(5)"
   ]
  },
  {
   "cell_type": "code",
   "execution_count": 9,
   "metadata": {},
   "outputs": [],
   "source": [
    "sales = pd.read_csv('./data/sales_train.csv.gz')"
   ]
  },
  {
   "cell_type": "code",
   "execution_count": 10,
   "metadata": {},
   "outputs": [],
   "source": [
    "def get_label(sales, lag=1):\n",
    "    max_num = sales['date_block_num'].max()\n",
    "    curr = max_num - lag + 1\n",
    "    labels = sales[sales['date_block_num'] == curr]['item_cnt_day'].values\n",
    "    return labels"
   ]
  },
  {
   "cell_type": "code",
   "execution_count": 11,
   "metadata": {},
   "outputs": [],
   "source": [
    "def create_data_lag(sales, lag=1):    \n",
    "    max_num = sales['date_block_num'].max()\n",
    "    curr = max_num - lag + 1\n",
    "    print(max_num, curr)\n",
    "    last_sales =  sales[sales['date_block_num'] == curr]\n",
    "    last_sales = last_sales.groupby(['shop_id','item_id']).agg({\"item_price\":'mean',\"item_cnt_day\":\"sum\"})\n",
    "    last_sales['shop_id'] = [i[0] for i in last_sales.index]\n",
    "    last_sales['item_id'] = [i[1] for i in last_sales.index]\n",
    "    label = last_sales.item_cnt_day.values\n",
    "    curr = curr -1\n",
    "    for i in range(0,max_num-lag+1):\n",
    "        previous_sales = sales.copy()\n",
    "        previous_sales = previous_sales[['date_block_num', 'shop_id', 'item_id', 'item_price','item_cnt_day']]\n",
    "        previous_sales = previous_sales[previous_sales['date_block_num'] == curr]\n",
    "        col_item_price = 'block_%s_lag_%s_item_price' % (curr, i)\n",
    "        col_item_cnt_day = 'block_%s_lag_%s_item_cnt_day' % (curr, i)\n",
    "        previous_sales[col_item_price] = previous_sales['item_price']\n",
    "        previous_sales[col_item_cnt_day] = previous_sales['item_cnt_day']\n",
    "\n",
    "        previous_sales= previous_sales.groupby(['shop_id','item_id']).agg({col_item_price:'mean', col_item_cnt_day:\"sum\"})\n",
    "        previous_sales['shop_id'] = [i[0] for i in previous_sales.index]\n",
    "        previous_sales['item_id'] = [i[1] for i in previous_sales.index]\n",
    "\n",
    "        last_sales = pd.merge(last_sales, previous_sales, on=['shop_id', 'item_id'], how='left')\n",
    "        curr = curr - 1\n",
    "    cols = []\n",
    "    for col in last_sales.columns:\n",
    "        if 'tuple' in str(type(col)):\n",
    "            cols.append(col[0]+\"_\"+col[1])\n",
    "        else:\n",
    "            cols.append(col)\n",
    "    last_sales.columns = cols\n",
    "    last_sale_clear_nan = last_sales.fillna(0)\n",
    "    del last_sale_clear_nan['item_price']\n",
    "    del last_sale_clear_nan['item_cnt_day']\n",
    "    return last_sale_clear_nan, label"
   ]
  },
  {
   "cell_type": "code",
   "execution_count": 13,
   "metadata": {},
   "outputs": [
    {
     "name": "stdout",
     "output_type": "stream",
     "text": [
      "33 33\n",
      "(31531, 68) (31531,)\n"
     ]
    }
   ],
   "source": [
    "eval_feature, eval_label = create_data_lag(sales, lag=1)\n",
    "print(eval_feature.shape, eval_label.shape)"
   ]
  },
  {
   "cell_type": "code",
   "execution_count": 14,
   "metadata": {},
   "outputs": [
    {
     "name": "stdout",
     "output_type": "stream",
     "text": [
      "33 32\n",
      "(29678, 66) (29678,)\n"
     ]
    }
   ],
   "source": [
    "test_feature,test_label = create_data_lag(sales, lag=2)\n",
    "print(test_feature.shape, test_label.shape)"
   ]
  },
  {
   "cell_type": "code",
   "execution_count": 15,
   "metadata": {},
   "outputs": [
    {
     "name": "stdout",
     "output_type": "stream",
     "text": [
      "33 31\n",
      "(33486, 64) (33486,)\n"
     ]
    }
   ],
   "source": [
    "train_feature,train_label = create_data_lag(sales, lag=3)\n",
    "print(train_feature.shape, train_label.shape)"
   ]
  },
  {
   "cell_type": "markdown",
   "metadata": {},
   "source": [
    "# Feature Engineering"
   ]
  },
  {
   "cell_type": "markdown",
   "metadata": {},
   "source": [
    "Grouping the date to 4 section :\n",
    "* Last Month bought\n",
    "* last 3 month bought average\n",
    "* last 6 month bought average\n",
    "* last 12 mounth bought average\n",
    "* rest bought average"
   ]
  },
  {
   "cell_type": "code",
   "execution_count": 16,
   "metadata": {},
   "outputs": [],
   "source": [
    "def get_column_buy_count(sales):\n",
    "    col_cnt = []\n",
    "    for c in sales.columns:\n",
    "        if 'item_cnt_day' in c:\n",
    "            col_cnt.append(c)\n",
    "    return col_cnt"
   ]
  },
  {
   "cell_type": "code",
   "execution_count": 17,
   "metadata": {},
   "outputs": [],
   "source": [
    "def get_last_month(sales):\n",
    "    cnt_columns = get_column_buy_count(sales)\n",
    "    sales['fe_last_month_count_sum'] = sales[cnt_columns[0]]\n",
    "    sales['fe_last_month_count_mean'] = sales[cnt_columns[0]]\n",
    "    return sales"
   ]
  },
  {
   "cell_type": "code",
   "execution_count": 18,
   "metadata": {},
   "outputs": [],
   "source": [
    "def get_last_3_month(sales):\n",
    "    cnt_columns = get_column_buy_count(sales)\n",
    "    sales['fe_last_3_months_count_sum'] = sales[cnt_columns[:3]].sum(axis=1)\n",
    "    sales['fe_last_3_months_count_mean'] = sales[cnt_columns[:3]].mean(axis=1)\n",
    "    return sales"
   ]
  },
  {
   "cell_type": "code",
   "execution_count": 19,
   "metadata": {},
   "outputs": [],
   "source": [
    "def get_last_6_month(sales):\n",
    "    cnt_columns = get_column_buy_count(sales)\n",
    "    sales['fe_last_6_months_count_sum'] = sales[cnt_columns[:6]].sum(axis=1)\n",
    "    sales['fe_last_6_months_count_mean'] = sales[cnt_columns[:6]].mean(axis=1)\n",
    "    return sales"
   ]
  },
  {
   "cell_type": "code",
   "execution_count": 20,
   "metadata": {},
   "outputs": [],
   "source": [
    "def get_last_12_month(sales):\n",
    "    cnt_columns = get_column_buy_count(sales)\n",
    "    sales['fe_last_12_months_count_sum'] = sales[cnt_columns[:12]].sum(axis=1)\n",
    "    sales['fe_last_12_months_count_mean'] = sales[cnt_columns[:12]].mean(axis=1)\n",
    "    return sales"
   ]
  },
  {
   "cell_type": "code",
   "execution_count": 21,
   "metadata": {},
   "outputs": [],
   "source": [
    "def get_rest_month(sales):\n",
    "    cnt_columns = get_column_buy_count(sales)\n",
    "    sales['fe_rest_months_count_sum'] = sales[cnt_columns[12:]].sum(axis=1)\n",
    "    sales['fe_rest_months_count_mean'] = sales[cnt_columns[12:]].mean(axis=1)\n",
    "    return sales"
   ]
  },
  {
   "cell_type": "code",
   "execution_count": 22,
   "metadata": {},
   "outputs": [],
   "source": [
    "def get_grouped_month_summary(sales):\n",
    "    cnt_columns = get_column_buy_count(sales)\n",
    "    \n",
    "        \n",
    "    sales['fe_group_1_months_count_sum' % month] = sales[cnt_columns[:1]].sum(axis=1)\n",
    "    sales['fe_group_1_months_count_mean' % month] = sales[cnt_columns[:1]].mean(axis=1)\n",
    "    \n",
    "    sales['fe_group_3_months_count_sum' % month] = sales[cnt_columns[:3]].sum(axis=1)\n",
    "    sales['fe_group_3_months_count_mean' % month] = sales[cnt_columns[:3]].mean(axis=1)\n",
    "    \n",
    "    sales['fe_group_6_months_count_sum' % month] = sales[cnt_columns[:6]].sum(axis=1)\n",
    "    sales['fe_group_6_months_count_mean' % month] = sales[cnt_columns[:6]].mean(axis=1)\n",
    "    \n",
    "    sales['fe_group_9_months_count_sum' % month] = sales[cnt_columns[:9]].sum(axis=1)\n",
    "    sales['fe_group_9_months_count_mean' % month] = sales[cnt_columns[:9]].mean(axis=1)\n",
    "    \n",
    "    sales['fe_group_12_months_count_sum' % month] = sales[cnt_columns[:12]].sum(axis=1)\n",
    "    sales['fe_group_12_months_count_mean' % month] = sales[cnt_columns[:12]].mean(axis=1)\n",
    "    print(\"get_grouped_month_summary : \", month)\n",
    "        \n",
    "#     sales['fe_group_res_months_count_sum'] = sales[cnt_columns[24:]].sum(axis=1)\n",
    "#     sales['fe_group_res_months_count_mean'] = sales[cnt_columns[24:]].mean(axis=1)\n",
    "\n",
    "    return sales"
   ]
  },
  {
   "cell_type": "code",
   "execution_count": 23,
   "metadata": {},
   "outputs": [],
   "source": [
    "def get_the_3_6_9_12_24_month(sales):\n",
    "    cnt_columns = get_column_buy_count(sales)\n",
    "    for i in (3,6,9):        \n",
    "        print(\"get_the_3_6_9_12_24_month \", i)\n",
    "        sales['fe_%s_month' % i] = sales[cnt_columns[i]]\n",
    "    return sales"
   ]
  },
  {
   "cell_type": "markdown",
   "metadata": {},
   "source": [
    "###  ==================================================="
   ]
  },
  {
   "cell_type": "code",
   "execution_count": 24,
   "metadata": {},
   "outputs": [],
   "source": [
    "\n",
    "\n",
    "def get_last_buy(sales):\n",
    "    col_cnt = get_column_buy_count(sales)\n",
    "    last_buy = []\n",
    "        \n",
    "    for items in sales[col_cnt].values:\n",
    "        month = -1\n",
    "        for idx,row in enumerate(items):\n",
    "            if idx > 0 and row > 0:\n",
    "                if month == -1:\n",
    "                    month = idx\n",
    "                    break\n",
    "        last_buy.append(month)\n",
    "    sales['fe_last_buy'] = last_buy\n",
    "    return sales\n",
    "\n",
    "def get_average_interval(sales):\n",
    "    col_cnt = get_column_buy_count(sales)\n",
    "    average_interval = []\n",
    "    for items in sales[col_cnt].values:\n",
    "        month_interval = []\n",
    "        last_buy_month = 0\n",
    "        for idx,row in enumerate(items):\n",
    "            if idx > 0 and row > 0:\n",
    "                month_interval.append(idx - last_buy_month)\n",
    "                last_buy_month = idx\n",
    "        average_interval.append(np.mean(month_interval))\n",
    "    sales['fe_average_interval'] = average_interval\n",
    "    return sales\n",
    "\n",
    "def get_avg_buy_rate(sales):  \n",
    "    col_cnt = get_column_buy_count(sales)\n",
    "    sales['fe_avg_buy_rate'] = sales[col_cnt].mean(axis=1)\n",
    "    return sales\n",
    "\n",
    "def get_std_buy_rate(sales):\n",
    "    col_cnt = get_column_buy_count(sales)\n",
    "    sales['fe_std_buy_rate'] = sales[col_cnt].std(axis=1)\n",
    "    return sales\n",
    "\n",
    "def generate_feature(last_sale_clear_nan):\n",
    "    last_sale_clear_nan = get_last_buy(last_sale_clear_nan)\n",
    "    print(\"get_last_buy\")\n",
    "    \n",
    "#     last_sale_clear_nan = get_average_interval(last_sale_clear_nan)\n",
    "    print(\"get_average_interval\")\n",
    "    \n",
    "    last_sale_clear_nan = get_avg_buy_rate(last_sale_clear_nan)\n",
    "    print(\"get_avg_buy_rate\")\n",
    "    \n",
    "    last_sale_clear_nan = get_std_buy_rate(last_sale_clear_nan)\n",
    "    print(\"get_std_buy_rate\")\n",
    "    \n",
    "#     last_sale_clear_nan = get_grouped_month_summary(last_sale_clear_nan)\n",
    "    last_sale_clear_nan = get_the_3_6_9_12_24_month(last_sale_clear_nan)\n",
    "    \n",
    "    selected_feature = []\n",
    "    for fe in last_sale_clear_nan.columns:\n",
    "        if 'fe_' in fe:\n",
    "            selected_feature.append(selected_feature)\n",
    "    return last_sale_clear_nan[selected_feature]"
   ]
  },
  {
   "cell_type": "markdown",
   "metadata": {},
   "source": [
    "# Apply the feature"
   ]
  },
  {
   "cell_type": "code",
   "execution_count": 25,
   "metadata": {},
   "outputs": [
    {
     "name": "stdout",
     "output_type": "stream",
     "text": [
      "a\n"
     ]
    }
   ],
   "source": [
    "print('a')"
   ]
  },
  {
   "cell_type": "code",
   "execution_count": 26,
   "metadata": {},
   "outputs": [],
   "source": [
    "cnt_columns = get_column_buy_count(train_feature)"
   ]
  },
  {
   "cell_type": "code",
   "execution_count": null,
   "metadata": {},
   "outputs": [
    {
     "name": "stdout",
     "output_type": "stream",
     "text": [
      "get_last_buy\n"
     ]
    }
   ],
   "source": [
    "train_feature = generate_feature(train_feature)"
   ]
  },
  {
   "cell_type": "code",
   "execution_count": null,
   "metadata": {},
   "outputs": [],
   "source": [
    "eval_feature = generate_feature(eval_feature)"
   ]
  },
  {
   "cell_type": "code",
   "execution_count": null,
   "metadata": {},
   "outputs": [],
   "source": [
    "test_feature = generate_feature(test_feature)"
   ]
  },
  {
   "cell_type": "markdown",
   "metadata": {},
   "source": [
    "# Modelling"
   ]
  },
  {
   "cell_type": "code",
   "execution_count": null,
   "metadata": {},
   "outputs": [],
   "source": [
    "import lightgbm as lgb\n",
    "from lightgbm import plot_importance"
   ]
  },
  {
   "cell_type": "code",
   "execution_count": null,
   "metadata": {},
   "outputs": [],
   "source": [
    "lr = lgb.LGBMRegressor(num_leaves=31, learning_rate=0.3, n_estimators=1000, colsample_bytree=0.8,\n",
    "                       min_child_weight=300,\n",
    "                       max_depth=8,\n",
    "                       subsample=0.8,\n",
    "                       seed=42\n",
    "                      )"
   ]
  },
  {
   "cell_type": "code",
   "execution_count": null,
   "metadata": {},
   "outputs": [],
   "source": [
    "train_label.shape"
   ]
  },
  {
   "cell_type": "code",
   "execution_count": null,
   "metadata": {},
   "outputs": [],
   "source": [
    "train_feature.shape"
   ]
  },
  {
   "cell_type": "code",
   "execution_count": null,
   "metadata": {},
   "outputs": [],
   "source": [
    "lr.fit(train_feature, train_label)"
   ]
  },
  {
   "cell_type": "code",
   "execution_count": null,
   "metadata": {},
   "outputs": [],
   "source": [
    "sales.date_block_num.max()"
   ]
  },
  {
   "cell_type": "code",
   "execution_count": null,
   "metadata": {},
   "outputs": [],
   "source": [
    "eval_feature.columns"
   ]
  },
  {
   "cell_type": "code",
   "execution_count": null,
   "metadata": {},
   "outputs": [],
   "source": [
    "test_feature.columns"
   ]
  },
  {
   "cell_type": "code",
   "execution_count": null,
   "metadata": {},
   "outputs": [],
   "source": [
    "from sklearn.metrics import mean_absolute_error, mean_squared_error\n",
    "import math"
   ]
  },
  {
   "cell_type": "code",
   "execution_count": null,
   "metadata": {},
   "outputs": [],
   "source": [
    "mean_absolute_error(train_label, lr.predict(train_feature))"
   ]
  },
  {
   "cell_type": "code",
   "execution_count": null,
   "metadata": {},
   "outputs": [],
   "source": [
    "math.sqrt(mean_squared_error(train_label, lr.predict(train_feature)))"
   ]
  },
  {
   "cell_type": "code",
   "execution_count": null,
   "metadata": {},
   "outputs": [],
   "source": [
    "lr.predict(test_feature)"
   ]
  },
  {
   "cell_type": "code",
   "execution_count": null,
   "metadata": {},
   "outputs": [],
   "source": []
  }
 ],
 "metadata": {
  "kernelspec": {
   "display_name": "Python 3",
   "language": "python",
   "name": "python3"
  },
  "language_info": {
   "codemirror_mode": {
    "name": "ipython",
    "version": 3
   },
   "file_extension": ".py",
   "mimetype": "text/x-python",
   "name": "python",
   "nbconvert_exporter": "python",
   "pygments_lexer": "ipython3",
   "version": "3.5.0"
  }
 },
 "nbformat": 4,
 "nbformat_minor": 2
}
