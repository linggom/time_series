{
 "cells": [
  {
   "cell_type": "code",
   "execution_count": null,
   "metadata": {},
   "outputs": [],
   "source": [
    "import pandas as pd\n",
    "import numpy as np"
   ]
  },
  {
   "cell_type": "code",
   "execution_count": null,
   "metadata": {},
   "outputs": [],
   "source": [
    "import warnings\n",
    "warnings.filterwarnings(\"ignore\")"
   ]
  },
  {
   "cell_type": "code",
   "execution_count": null,
   "metadata": {},
   "outputs": [],
   "source": [
    "train = pd.read_csv('./data/train.csv')"
   ]
  },
  {
   "cell_type": "code",
   "execution_count": 4,
   "metadata": {},
   "outputs": [],
   "source": [
    "eval = pd.read_csv('./data/eval.csv')"
   ]
  },
  {
   "cell_type": "code",
   "execution_count": 5,
   "metadata": {},
   "outputs": [],
   "source": [
    "test = pd.read_csv('./data/test.csv')"
   ]
  },
  {
   "cell_type": "code",
   "execution_count": 6,
   "metadata": {},
   "outputs": [
    {
     "data": {
      "text/html": [
       "<div>\n",
       "<style scoped>\n",
       "    .dataframe tbody tr th:only-of-type {\n",
       "        vertical-align: middle;\n",
       "    }\n",
       "\n",
       "    .dataframe tbody tr th {\n",
       "        vertical-align: top;\n",
       "    }\n",
       "\n",
       "    .dataframe thead th {\n",
       "        text-align: right;\n",
       "    }\n",
       "</style>\n",
       "<table border=\"1\" class=\"dataframe\">\n",
       "  <thead>\n",
       "    <tr style=\"text-align: right;\">\n",
       "      <th></th>\n",
       "      <th>item_cnt_day</th>\n",
       "      <th>item_price</th>\n",
       "      <th>shop_id</th>\n",
       "      <th>item_id</th>\n",
       "    </tr>\n",
       "  </thead>\n",
       "  <tbody>\n",
       "    <tr>\n",
       "      <th>0</th>\n",
       "      <td>1.0</td>\n",
       "      <td>399.0</td>\n",
       "      <td>2</td>\n",
       "      <td>31</td>\n",
       "    </tr>\n",
       "    <tr>\n",
       "      <th>1</th>\n",
       "      <td>3.0</td>\n",
       "      <td>300.0</td>\n",
       "      <td>2</td>\n",
       "      <td>486</td>\n",
       "    </tr>\n",
       "    <tr>\n",
       "      <th>2</th>\n",
       "      <td>1.0</td>\n",
       "      <td>420.0</td>\n",
       "      <td>2</td>\n",
       "      <td>787</td>\n",
       "    </tr>\n",
       "    <tr>\n",
       "      <th>3</th>\n",
       "      <td>1.0</td>\n",
       "      <td>3300.0</td>\n",
       "      <td>2</td>\n",
       "      <td>794</td>\n",
       "    </tr>\n",
       "    <tr>\n",
       "      <th>4</th>\n",
       "      <td>1.0</td>\n",
       "      <td>58.0</td>\n",
       "      <td>2</td>\n",
       "      <td>968</td>\n",
       "    </tr>\n",
       "  </tbody>\n",
       "</table>\n",
       "</div>"
      ],
      "text/plain": [
       "   item_cnt_day  item_price  shop_id  item_id\n",
       "0           1.0       399.0        2       31\n",
       "1           3.0       300.0        2      486\n",
       "2           1.0       420.0        2      787\n",
       "3           1.0      3300.0        2      794\n",
       "4           1.0        58.0        2      968"
      ]
     },
     "execution_count": 6,
     "metadata": {},
     "output_type": "execute_result"
    }
   ],
   "source": [
    "test.head(5)"
   ]
  },
  {
   "cell_type": "code",
   "execution_count": 7,
   "metadata": {},
   "outputs": [
    {
     "data": {
      "text/html": [
       "<div>\n",
       "<style scoped>\n",
       "    .dataframe tbody tr th:only-of-type {\n",
       "        vertical-align: middle;\n",
       "    }\n",
       "\n",
       "    .dataframe tbody tr th {\n",
       "        vertical-align: top;\n",
       "    }\n",
       "\n",
       "    .dataframe thead th {\n",
       "        text-align: right;\n",
       "    }\n",
       "</style>\n",
       "<table border=\"1\" class=\"dataframe\">\n",
       "  <thead>\n",
       "    <tr style=\"text-align: right;\">\n",
       "      <th></th>\n",
       "      <th>item_cnt_day</th>\n",
       "      <th>item_price</th>\n",
       "      <th>shop_id</th>\n",
       "      <th>item_id</th>\n",
       "    </tr>\n",
       "  </thead>\n",
       "  <tbody>\n",
       "    <tr>\n",
       "      <th>0</th>\n",
       "      <td>1.0</td>\n",
       "      <td>399.0</td>\n",
       "      <td>2</td>\n",
       "      <td>31</td>\n",
       "    </tr>\n",
       "    <tr>\n",
       "      <th>1</th>\n",
       "      <td>3.0</td>\n",
       "      <td>300.0</td>\n",
       "      <td>2</td>\n",
       "      <td>486</td>\n",
       "    </tr>\n",
       "    <tr>\n",
       "      <th>2</th>\n",
       "      <td>1.0</td>\n",
       "      <td>420.0</td>\n",
       "      <td>2</td>\n",
       "      <td>787</td>\n",
       "    </tr>\n",
       "    <tr>\n",
       "      <th>3</th>\n",
       "      <td>1.0</td>\n",
       "      <td>3300.0</td>\n",
       "      <td>2</td>\n",
       "      <td>794</td>\n",
       "    </tr>\n",
       "    <tr>\n",
       "      <th>4</th>\n",
       "      <td>1.0</td>\n",
       "      <td>58.0</td>\n",
       "      <td>2</td>\n",
       "      <td>968</td>\n",
       "    </tr>\n",
       "  </tbody>\n",
       "</table>\n",
       "</div>"
      ],
      "text/plain": [
       "   item_cnt_day  item_price  shop_id  item_id\n",
       "0           1.0       399.0        2       31\n",
       "1           3.0       300.0        2      486\n",
       "2           1.0       420.0        2      787\n",
       "3           1.0      3300.0        2      794\n",
       "4           1.0        58.0        2      968"
      ]
     },
     "execution_count": 7,
     "metadata": {},
     "output_type": "execute_result"
    }
   ],
   "source": [
    "eval.head(5)"
   ]
  },
  {
   "cell_type": "code",
   "execution_count": 8,
   "metadata": {},
   "outputs": [
    {
     "data": {
      "text/html": [
       "<div>\n",
       "<style scoped>\n",
       "    .dataframe tbody tr th:only-of-type {\n",
       "        vertical-align: middle;\n",
       "    }\n",
       "\n",
       "    .dataframe tbody tr th {\n",
       "        vertical-align: top;\n",
       "    }\n",
       "\n",
       "    .dataframe thead th {\n",
       "        text-align: right;\n",
       "    }\n",
       "</style>\n",
       "<table border=\"1\" class=\"dataframe\">\n",
       "  <thead>\n",
       "    <tr style=\"text-align: right;\">\n",
       "      <th></th>\n",
       "      <th>item_cnt_day</th>\n",
       "      <th>item_price</th>\n",
       "      <th>shop_id</th>\n",
       "      <th>item_id</th>\n",
       "      <th>block_31_lag_1_item_price</th>\n",
       "      <th>block_31_lag_1_item_cnt_day</th>\n",
       "      <th>block_30_lag_2_item_cnt_day</th>\n",
       "      <th>block_30_lag_2_item_price</th>\n",
       "      <th>block_29_lag_3_item_cnt_day</th>\n",
       "      <th>block_29_lag_3_item_price</th>\n",
       "      <th>...</th>\n",
       "      <th>block_1_lag_31_item_price</th>\n",
       "      <th>block_1_lag_31_item_cnt_day</th>\n",
       "      <th>block_0_lag_32_item_cnt_day</th>\n",
       "      <th>block_0_lag_32_item_price</th>\n",
       "      <th>block_-1_lag_33_item_cnt_day</th>\n",
       "      <th>block_-1_lag_33_item_price</th>\n",
       "      <th>last_buy</th>\n",
       "      <th>average_interval</th>\n",
       "      <th>avg_buy_rate</th>\n",
       "      <th>std_buy_rate</th>\n",
       "    </tr>\n",
       "  </thead>\n",
       "  <tbody>\n",
       "    <tr>\n",
       "      <th>0</th>\n",
       "      <td>1.0</td>\n",
       "      <td>199.0</td>\n",
       "      <td>2</td>\n",
       "      <td>33</td>\n",
       "      <td>0.0</td>\n",
       "      <td>0.0</td>\n",
       "      <td>1.0</td>\n",
       "      <td>199.0</td>\n",
       "      <td>0.0</td>\n",
       "      <td>0.0</td>\n",
       "      <td>...</td>\n",
       "      <td>0.0</td>\n",
       "      <td>0.0</td>\n",
       "      <td>1.0</td>\n",
       "      <td>499.0</td>\n",
       "      <td>0.0</td>\n",
       "      <td>0.0</td>\n",
       "      <td>2</td>\n",
       "      <td>3.555556</td>\n",
       "      <td>0.323529</td>\n",
       "      <td>0.534880</td>\n",
       "    </tr>\n",
       "    <tr>\n",
       "      <th>1</th>\n",
       "      <td>1.0</td>\n",
       "      <td>300.0</td>\n",
       "      <td>2</td>\n",
       "      <td>486</td>\n",
       "      <td>0.0</td>\n",
       "      <td>0.0</td>\n",
       "      <td>0.0</td>\n",
       "      <td>0.0</td>\n",
       "      <td>2.0</td>\n",
       "      <td>300.0</td>\n",
       "      <td>...</td>\n",
       "      <td>0.0</td>\n",
       "      <td>0.0</td>\n",
       "      <td>0.0</td>\n",
       "      <td>0.0</td>\n",
       "      <td>0.0</td>\n",
       "      <td>0.0</td>\n",
       "      <td>3</td>\n",
       "      <td>1.714286</td>\n",
       "      <td>0.382353</td>\n",
       "      <td>0.779071</td>\n",
       "    </tr>\n",
       "    <tr>\n",
       "      <th>2</th>\n",
       "      <td>1.0</td>\n",
       "      <td>979.0</td>\n",
       "      <td>2</td>\n",
       "      <td>792</td>\n",
       "      <td>979.0</td>\n",
       "      <td>2.0</td>\n",
       "      <td>0.0</td>\n",
       "      <td>0.0</td>\n",
       "      <td>1.0</td>\n",
       "      <td>979.0</td>\n",
       "      <td>...</td>\n",
       "      <td>0.0</td>\n",
       "      <td>0.0</td>\n",
       "      <td>0.0</td>\n",
       "      <td>0.0</td>\n",
       "      <td>0.0</td>\n",
       "      <td>0.0</td>\n",
       "      <td>1</td>\n",
       "      <td>1.555556</td>\n",
       "      <td>0.411765</td>\n",
       "      <td>0.743360</td>\n",
       "    </tr>\n",
       "    <tr>\n",
       "      <th>3</th>\n",
       "      <td>1.0</td>\n",
       "      <td>349.0</td>\n",
       "      <td>2</td>\n",
       "      <td>975</td>\n",
       "      <td>0.0</td>\n",
       "      <td>0.0</td>\n",
       "      <td>1.0</td>\n",
       "      <td>349.0</td>\n",
       "      <td>0.0</td>\n",
       "      <td>0.0</td>\n",
       "      <td>...</td>\n",
       "      <td>0.0</td>\n",
       "      <td>0.0</td>\n",
       "      <td>0.0</td>\n",
       "      <td>0.0</td>\n",
       "      <td>0.0</td>\n",
       "      <td>0.0</td>\n",
       "      <td>2</td>\n",
       "      <td>2.000000</td>\n",
       "      <td>0.058824</td>\n",
       "      <td>0.238833</td>\n",
       "    </tr>\n",
       "    <tr>\n",
       "      <th>4</th>\n",
       "      <td>1.0</td>\n",
       "      <td>499.0</td>\n",
       "      <td>2</td>\n",
       "      <td>1090</td>\n",
       "      <td>0.0</td>\n",
       "      <td>0.0</td>\n",
       "      <td>0.0</td>\n",
       "      <td>0.0</td>\n",
       "      <td>1.0</td>\n",
       "      <td>499.0</td>\n",
       "      <td>...</td>\n",
       "      <td>0.0</td>\n",
       "      <td>0.0</td>\n",
       "      <td>0.0</td>\n",
       "      <td>0.0</td>\n",
       "      <td>0.0</td>\n",
       "      <td>0.0</td>\n",
       "      <td>3</td>\n",
       "      <td>3.000000</td>\n",
       "      <td>0.058824</td>\n",
       "      <td>0.238833</td>\n",
       "    </tr>\n",
       "  </tbody>\n",
       "</table>\n",
       "<p>5 rows × 74 columns</p>\n",
       "</div>"
      ],
      "text/plain": [
       "   item_cnt_day  item_price  shop_id  item_id  block_31_lag_1_item_price  \\\n",
       "0           1.0       199.0        2       33                        0.0   \n",
       "1           1.0       300.0        2      486                        0.0   \n",
       "2           1.0       979.0        2      792                      979.0   \n",
       "3           1.0       349.0        2      975                        0.0   \n",
       "4           1.0       499.0        2     1090                        0.0   \n",
       "\n",
       "   block_31_lag_1_item_cnt_day  block_30_lag_2_item_cnt_day  \\\n",
       "0                          0.0                          1.0   \n",
       "1                          0.0                          0.0   \n",
       "2                          2.0                          0.0   \n",
       "3                          0.0                          1.0   \n",
       "4                          0.0                          0.0   \n",
       "\n",
       "   block_30_lag_2_item_price  block_29_lag_3_item_cnt_day  \\\n",
       "0                      199.0                          0.0   \n",
       "1                        0.0                          2.0   \n",
       "2                        0.0                          1.0   \n",
       "3                      349.0                          0.0   \n",
       "4                        0.0                          1.0   \n",
       "\n",
       "   block_29_lag_3_item_price      ...       block_1_lag_31_item_price  \\\n",
       "0                        0.0      ...                             0.0   \n",
       "1                      300.0      ...                             0.0   \n",
       "2                      979.0      ...                             0.0   \n",
       "3                        0.0      ...                             0.0   \n",
       "4                      499.0      ...                             0.0   \n",
       "\n",
       "   block_1_lag_31_item_cnt_day  block_0_lag_32_item_cnt_day  \\\n",
       "0                          0.0                          1.0   \n",
       "1                          0.0                          0.0   \n",
       "2                          0.0                          0.0   \n",
       "3                          0.0                          0.0   \n",
       "4                          0.0                          0.0   \n",
       "\n",
       "   block_0_lag_32_item_price  block_-1_lag_33_item_cnt_day  \\\n",
       "0                      499.0                           0.0   \n",
       "1                        0.0                           0.0   \n",
       "2                        0.0                           0.0   \n",
       "3                        0.0                           0.0   \n",
       "4                        0.0                           0.0   \n",
       "\n",
       "   block_-1_lag_33_item_price  last_buy  average_interval  avg_buy_rate  \\\n",
       "0                         0.0         2          3.555556      0.323529   \n",
       "1                         0.0         3          1.714286      0.382353   \n",
       "2                         0.0         1          1.555556      0.411765   \n",
       "3                         0.0         2          2.000000      0.058824   \n",
       "4                         0.0         3          3.000000      0.058824   \n",
       "\n",
       "   std_buy_rate  \n",
       "0      0.534880  \n",
       "1      0.779071  \n",
       "2      0.743360  \n",
       "3      0.238833  \n",
       "4      0.238833  \n",
       "\n",
       "[5 rows x 74 columns]"
      ]
     },
     "execution_count": 8,
     "metadata": {},
     "output_type": "execute_result"
    }
   ],
   "source": [
    "train.head(5)"
   ]
  },
  {
   "cell_type": "code",
   "execution_count": 9,
   "metadata": {},
   "outputs": [],
   "source": [
    "sales = pd.read_csv('./data/sales_train.csv.gz')"
   ]
  },
  {
   "cell_type": "code",
   "execution_count": 10,
   "metadata": {},
   "outputs": [],
   "source": [
    "def get_label(sales, lag=1):\n",
    "    max_num = sales['date_block_num'].max()\n",
    "    curr = max_num - lag + 1\n",
    "    labels = sales[sales['date_block_num'] == curr]['item_cnt_day'].values\n",
    "    return labels"
   ]
  },
  {
   "cell_type": "code",
   "execution_count": 11,
   "metadata": {},
   "outputs": [],
   "source": [
    "def create_data_lag(sales, lag=1):    \n",
    "    max_num = sales['date_block_num'].max()\n",
    "    curr = max_num - lag + 1\n",
    "    print(max_num, curr)\n",
    "    last_sales =  sales[sales['date_block_num'] == curr]\n",
    "    last_sales = last_sales.groupby(['shop_id','item_id']).agg({\"item_price\":'mean',\"item_cnt_day\":\"sum\"})\n",
    "    last_sales['shop_id'] = [i[0] for i in last_sales.index]\n",
    "    last_sales['item_id'] = [i[1] for i in last_sales.index]\n",
    "    label = last_sales.item_cnt_day.values\n",
    "    curr = curr -1\n",
    "    for i in range(0,max_num-lag+1):\n",
    "        previous_sales = sales.copy()\n",
    "        previous_sales = previous_sales[['date_block_num', 'shop_id', 'item_id', 'item_price','item_cnt_day']]\n",
    "        previous_sales = previous_sales[previous_sales['date_block_num'] == curr]\n",
    "        col_item_price = 'block_%s_lag_%s_item_price' % (curr, i)\n",
    "        col_item_cnt_day = 'block_%s_lag_%s_item_cnt_day' % (curr, i)\n",
    "        previous_sales[col_item_price] = previous_sales['item_price']\n",
    "        previous_sales[col_item_cnt_day] = previous_sales['item_cnt_day']\n",
    "\n",
    "        previous_sales= previous_sales.groupby(['shop_id','item_id']).agg({col_item_price:'mean', col_item_cnt_day:\"sum\"})\n",
    "        previous_sales['shop_id'] = [i[0] for i in previous_sales.index]\n",
    "        previous_sales['item_id'] = [i[1] for i in previous_sales.index]\n",
    "\n",
    "        last_sales = pd.merge(last_sales, previous_sales, on=['shop_id', 'item_id'], how='left')\n",
    "        curr = curr - 1\n",
    "    cols = []\n",
    "    for col in last_sales.columns:\n",
    "        if 'tuple' in str(type(col)):\n",
    "            cols.append(col[0]+\"_\"+col[1])\n",
    "        else:\n",
    "            cols.append(col)\n",
    "    last_sales.columns = cols\n",
    "    last_sale_clear_nan = last_sales.fillna(0)\n",
    "    del last_sale_clear_nan['item_price']\n",
    "    del last_sale_clear_nan['item_cnt_day']\n",
    "    return last_sale_clear_nan, label"
   ]
  },
  {
   "cell_type": "code",
   "execution_count": 12,
   "metadata": {},
   "outputs": [
    {
     "name": "stdout",
     "output_type": "stream",
     "text": [
      "33 33\n",
      "(31531, 68) (31531,)\n"
     ]
    }
   ],
   "source": [
    "eval_feature, eval_label = create_data_lag(sales, lag=1)\n",
    "print(eval_feature.shape, eval_label.shape)"
   ]
  },
  {
   "cell_type": "code",
   "execution_count": 13,
   "metadata": {},
   "outputs": [
    {
     "name": "stdout",
     "output_type": "stream",
     "text": [
      "33 32\n",
      "(29678, 66) (29678,)\n"
     ]
    }
   ],
   "source": [
    "test_feature,test_label = create_data_lag(sales, lag=2)\n",
    "print(test_feature.shape, test_label.shape)"
   ]
  },
  {
   "cell_type": "code",
   "execution_count": 14,
   "metadata": {},
   "outputs": [
    {
     "name": "stdout",
     "output_type": "stream",
     "text": [
      "33 31\n",
      "(33486, 64) (33486,)\n"
     ]
    }
   ],
   "source": [
    "train_feature,train_label = create_data_lag(sales, lag=3)\n",
    "print(train_feature.shape, train_label.shape)"
   ]
  },
  {
   "cell_type": "markdown",
   "metadata": {},
   "source": [
    "# Feature Engineering"
   ]
  },
  {
   "cell_type": "markdown",
   "metadata": {},
   "source": [
    "Grouping the date to 4 section :\n",
    "* Last Month bought\n",
    "* last 3 month bought average\n",
    "* last 6 month bought average\n",
    "* last 12 mounth bought average\n",
    "* rest bought average"
   ]
  },
  {
   "cell_type": "code",
   "execution_count": 15,
   "metadata": {},
   "outputs": [],
   "source": [
    "def get_column_buy_count(sales):\n",
    "    col_cnt = []\n",
    "    for c in sales.columns:\n",
    "        if 'item_cnt_day' in c:\n",
    "            col_cnt.append(c)\n",
    "    return col_cnt"
   ]
  },
  {
   "cell_type": "code",
   "execution_count": 16,
   "metadata": {},
   "outputs": [],
   "source": [
    "def get_last_month(sales):\n",
    "    cnt_columns = get_column_buy_count(sales)\n",
    "    sales['fe_last_month_count_sum'] = sales[cnt_columns[0]]\n",
    "    sales['fe_last_month_count_mean'] = sales[cnt_columns[0]]\n",
    "    return sales"
   ]
  },
  {
   "cell_type": "code",
   "execution_count": 17,
   "metadata": {},
   "outputs": [],
   "source": [
    "def get_last_3_month(sales):\n",
    "    cnt_columns = get_column_buy_count(sales)\n",
    "    sales['fe_last_3_months_count_sum'] = sales[cnt_columns[:3]].sum(axis=1)\n",
    "    sales['fe_last_3_months_count_mean'] = sales[cnt_columns[:3]].mean(axis=1)\n",
    "    return sales"
   ]
  },
  {
   "cell_type": "code",
   "execution_count": 18,
   "metadata": {},
   "outputs": [],
   "source": [
    "def get_last_6_month(sales):\n",
    "    cnt_columns = get_column_buy_count(sales)\n",
    "    sales['fe_last_6_months_count_sum'] = sales[cnt_columns[:6]].sum(axis=1)\n",
    "    sales['fe_last_6_months_count_mean'] = sales[cnt_columns[:6]].mean(axis=1)\n",
    "    return sales"
   ]
  },
  {
   "cell_type": "code",
   "execution_count": 19,
   "metadata": {},
   "outputs": [],
   "source": [
    "def get_last_12_month(sales):\n",
    "    cnt_columns = get_column_buy_count(sales)\n",
    "    sales['fe_last_12_months_count_sum'] = sales[cnt_columns[:12]].sum(axis=1)\n",
    "    sales['fe_last_12_months_count_mean'] = sales[cnt_columns[:12]].mean(axis=1)\n",
    "    return sales"
   ]
  },
  {
   "cell_type": "code",
   "execution_count": 20,
   "metadata": {},
   "outputs": [],
   "source": [
    "def get_rest_month(sales):\n",
    "    cnt_columns = get_column_buy_count(sales)\n",
    "    sales['fe_rest_months_count_sum'] = sales[cnt_columns[12:]].sum(axis=1)\n",
    "    sales['fe_rest_months_count_mean'] = sales[cnt_columns[12:]].mean(axis=1)\n",
    "    return sales"
   ]
  },
  {
   "cell_type": "code",
   "execution_count": 21,
   "metadata": {},
   "outputs": [],
   "source": [
    "def get_grouped_month_summary(sales):\n",
    "    cnt_columns = get_column_buy_count(sales)\n",
    "    for month in (1,3,6,9):\n",
    "        \n",
    "        sales['fe_group_%s_months_count_sum' % month] = sales[cnt_columns[:month]].sum(axis=1)\n",
    "        sales['fe_group_%s_months_count_mean' % month] = sales[cnt_columns[:month]].mean(axis=1)\n",
    "        print(\"get_grouped_month_summary : \", month)\n",
    "        \n",
    "#     sales['fe_group_res_months_count_sum'] = sales[cnt_columns[24:]].sum(axis=1)\n",
    "#     sales['fe_group_res_months_count_mean'] = sales[cnt_columns[24:]].mean(axis=1)\n",
    "\n",
    "    return sales"
   ]
  },
  {
   "cell_type": "code",
   "execution_count": 22,
   "metadata": {},
   "outputs": [],
   "source": [
    "def get_the_3_6_9_12_24_month(sales):\n",
    "    cnt_columns = get_column_buy_count(sales)\n",
    "    for i in (3,6,9):        \n",
    "        print(\"get_the_3_6_9_12_24_month \", i)\n",
    "        sales['fe_%s_month' % i] = sales[cnt_columns[i]]\n",
    "    return sales"
   ]
  },
  {
   "cell_type": "markdown",
   "metadata": {},
   "source": [
    "###  ==================================================="
   ]
  },
  {
   "cell_type": "code",
   "execution_count": 23,
   "metadata": {},
   "outputs": [],
   "source": [
    "\n",
    "\n",
    "def get_last_buy(sales):\n",
    "    col_cnt = get_column_buy_count(sales)\n",
    "    last_buy = []\n",
    "        \n",
    "    for items in sales[col_cnt].values:\n",
    "        month = -1\n",
    "        for idx,row in enumerate(items):\n",
    "            if idx > 0 and row > 0:\n",
    "                if month == -1:\n",
    "                    month = idx\n",
    "                    break\n",
    "        last_buy.append(month)\n",
    "    sales['fe_last_buy'] = last_buy\n",
    "    return sales\n",
    "\n",
    "def get_average_interval(sales):\n",
    "    col_cnt = get_column_buy_count(sales)\n",
    "    average_interval = []\n",
    "    for items in sales[col_cnt].values:\n",
    "        month_interval = []\n",
    "        last_buy_month = 0\n",
    "        for idx,row in enumerate(items):\n",
    "            if idx > 0 and row > 0:\n",
    "                month_interval.append(idx - last_buy_month)\n",
    "                last_buy_month = idx\n",
    "        average_interval.append(np.mean(month_interval))\n",
    "    sales['fe_average_interval'] = average_interval\n",
    "    return sales\n",
    "\n",
    "def get_avg_buy_rate(sales):  \n",
    "    col_cnt = get_column_buy_count(sales)\n",
    "    sales['fe_avg_buy_rate'] = sales[col_cnt].mean(axis=1)\n",
    "    return sales\n",
    "\n",
    "def get_std_buy_rate(sales):\n",
    "    col_cnt = get_column_buy_count(sales)\n",
    "    sales['fe_std_buy_rate'] = sales[col_cnt].std(axis=1)\n",
    "    return sales\n",
    "\n",
    "def generate_feature(last_sale_clear_nan):\n",
    "    last_sale_clear_nan = get_last_buy(last_sale_clear_nan)\n",
    "    print(\"get_last_buy\")\n",
    "    \n",
    "    last_sale_clear_nan = get_average_interval(last_sale_clear_nan)\n",
    "    print(\"get_average_interval\")\n",
    "    \n",
    "    last_sale_clear_nan = get_avg_buy_rate(last_sale_clear_nan)\n",
    "    print(\"get_avg_buy_rate\")\n",
    "    \n",
    "    last_sale_clear_nan = get_std_buy_rate(last_sale_clear_nan)\n",
    "    print(\"get_std_buy_rate\")\n",
    "    \n",
    "#     last_sale_clear_nan = get_grouped_month_summary(last_sale_clear_nan)\n",
    "    last_sale_clear_nan = get_the_3_6_9_12_24_month(last_sale_clear_nan)\n",
    "    \n",
    "    selected_feature = []\n",
    "    for fe in last_sale_clear_nan.columns:\n",
    "        if 'fe_' in fe:\n",
    "            selected_feature.append(selected_feature)\n",
    "    return last_sale_clear_nan[selected_feature]"
   ]
  },
  {
   "cell_type": "markdown",
   "metadata": {},
   "source": [
    "# Apply the feature"
   ]
  },
  {
   "cell_type": "code",
   "execution_count": null,
   "metadata": {},
   "outputs": [
    {
     "name": "stdout",
     "output_type": "stream",
     "text": [
      "get_last_buy\n"
     ]
    }
   ],
   "source": [
    "train_feature = generate_feature(train_feature)"
   ]
  },
  {
   "cell_type": "code",
   "execution_count": null,
   "metadata": {},
   "outputs": [],
   "source": [
    "eval_feature = generate_feature(eval_feature)"
   ]
  },
  {
   "cell_type": "code",
   "execution_count": null,
   "metadata": {},
   "outputs": [],
   "source": [
    "test_feature = generate_feature(test_feature)"
   ]
  },
  {
   "cell_type": "markdown",
   "metadata": {},
   "source": [
    "# Modelling"
   ]
  },
  {
   "cell_type": "code",
   "execution_count": null,
   "metadata": {},
   "outputs": [],
   "source": [
    "import lightgbm as lgb\n",
    "from lightgbm import plot_importance"
   ]
  },
  {
   "cell_type": "code",
   "execution_count": null,
   "metadata": {},
   "outputs": [],
   "source": [
    "lr = lgb.LGBMRegressor(num_leaves=31, learning_rate=0.3, n_estimators=1000, colsample_bytree=0.8,\n",
    "                       min_child_weight=300,\n",
    "                       max_depth=8,\n",
    "                       subsample=0.8,\n",
    "                       seed=42\n",
    "                      )"
   ]
  },
  {
   "cell_type": "code",
   "execution_count": null,
   "metadata": {},
   "outputs": [],
   "source": [
    "train_label.shape"
   ]
  },
  {
   "cell_type": "code",
   "execution_count": null,
   "metadata": {},
   "outputs": [],
   "source": [
    "train_feature.shape"
   ]
  },
  {
   "cell_type": "code",
   "execution_count": null,
   "metadata": {},
   "outputs": [],
   "source": [
    "lr.fit(train_feature, train_label)"
   ]
  },
  {
   "cell_type": "code",
   "execution_count": null,
   "metadata": {},
   "outputs": [],
   "source": [
    "sales.date_block_num.max()"
   ]
  },
  {
   "cell_type": "code",
   "execution_count": null,
   "metadata": {},
   "outputs": [],
   "source": [
    "eval_feature.columns"
   ]
  },
  {
   "cell_type": "code",
   "execution_count": null,
   "metadata": {},
   "outputs": [],
   "source": [
    "test_feature.columns"
   ]
  },
  {
   "cell_type": "code",
   "execution_count": null,
   "metadata": {},
   "outputs": [],
   "source": [
    "from sklearn.metrics import mean_absolute_error, mean_squared_error\n",
    "import math"
   ]
  },
  {
   "cell_type": "code",
   "execution_count": null,
   "metadata": {},
   "outputs": [],
   "source": [
    "mean_absolute_error(train_label, lr.predict(train_feature))"
   ]
  },
  {
   "cell_type": "code",
   "execution_count": null,
   "metadata": {},
   "outputs": [],
   "source": [
    "math.sqrt(mean_squared_error(train_label, lr.predict(train_feature)))"
   ]
  },
  {
   "cell_type": "code",
   "execution_count": null,
   "metadata": {},
   "outputs": [],
   "source": [
    "lr.predict(test_feature)"
   ]
  },
  {
   "cell_type": "code",
   "execution_count": null,
   "metadata": {},
   "outputs": [],
   "source": []
  }
 ],
 "metadata": {
  "kernelspec": {
   "display_name": "Python 3",
   "language": "python",
   "name": "python3"
  },
  "language_info": {
   "codemirror_mode": {
    "name": "ipython",
    "version": 3
   },
   "file_extension": ".py",
   "mimetype": "text/x-python",
   "name": "python",
   "nbconvert_exporter": "python",
   "pygments_lexer": "ipython3",
   "version": "3.5.0"
  }
 },
 "nbformat": 4,
 "nbformat_minor": 2
}
